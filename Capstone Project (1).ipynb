{
 "cells": [
  {
   "cell_type": "code",
   "execution_count": 1193,
   "metadata": {},
   "outputs": [],
   "source": [
    "import pandas as pd\n",
    "import numpy as np\n",
    "import matplotlib.pyplot as plt\n",
    "import seaborn as sns\n",
    "from sklearn.model_selection import train_test_split,GridSearchCV,cross_val_score,cross_val_predict\n",
    "from sklearn.preprocessing import StandardScaler"
   ]
  },
  {
   "cell_type": "code",
   "execution_count": 1194,
   "metadata": {},
   "outputs": [],
   "source": [
    "df=pd.read_excel(\"/Users/lav/Downloads/Student Applications & Performance.xlsx\")"
   ]
  },
  {
   "cell_type": "markdown",
   "metadata": {},
   "source": [
    "# Data Preprocessing"
   ]
  },
  {
   "cell_type": "markdown",
   "metadata": {},
   "source": [
    "**Null Values-(columns-nulls-column_length-datatype)"
   ]
  },
  {
   "cell_type": "code",
   "execution_count": 1195,
   "metadata": {
    "scrolled": true
   },
   "outputs": [
    {
     "name": "stdout",
     "output_type": "stream",
     "text": [
      "STUDENT IDENTIFIER   0    3400    int64\n",
      "STDNT_AGE   0    3400    int64\n",
      "STDNT_GENDER   0    3400    object\n",
      "STDNT_BACKGROUND   0    3400    object\n",
      "IN_STATE_FLAG   0    3400    object\n",
      "INTERNATIONAL_STS   0    3400    object\n",
      "STDNT_MAJOR   0    3400    object\n",
      "STDNT_MINOR   0    3400    object\n",
      "STDNT_TEST_ENTRANCE1   2294    3400    float64\n",
      "STDNT_TEST_ENTRANCE2   908    3400    float64\n",
      "STDNT_TEST_ENTRANCE_COMB   518    3400    float64\n",
      "FIRST_TERM   0    3400    int64\n",
      "CORE_COURSE_NAME_1_F   0    3400    object\n",
      "CORE_COURSE_GRADE_1_F   0    3400    object\n",
      "CORE_COURSE_NAME_2_F   99    3400    object\n",
      "CORE_COURSE_GRADE_2_F   99    3400    object\n",
      "CORE_COURSE_NAME_3_F   565    3400    object\n",
      "CORE_COURSE_GRADE_3_F   565    3400    object\n",
      "CORE_COURSE_NAME_4_F   1597    3400    object\n",
      "CORE_COURSE_GRADE_4_F   1597    3400    object\n",
      "CORE_COURSE_NAME_5_F   2755    3400    object\n",
      "CORE_COURSE_GRADE_5_F   2755    3400    object\n",
      "CORE_COURSE_NAME_6_F   3272    3400    object\n",
      "CORE_COURSE_GRADE_6_F   3272    3400    object\n",
      "SECOND_TERM   0    3400    int64\n",
      "CORE_COURSE_NAME_1_S   157    3400    object\n",
      "CORE_COURSE_GRADE_1_S   232    3400    object\n",
      "CORE_COURSE_NAME_2_S   439    3400    object\n",
      "CORE_COURSE_GRADE_2_S   439    3400    object\n",
      "CORE_COURSE_NAME_3_S   1038    3400    object\n",
      "CORE_COURSE_GRADE_3_S   1038    3400    object\n",
      "CORE_COURSE_NAME_4_S   2045    3400    object\n",
      "CORE_COURSE_GRADE_4_S   2045    3400    object\n",
      "CORE_COURSE_NAME_5_S   2950    3400    object\n",
      "CORE_COURSE_GRADE_5_S   2950    3400    object\n",
      "CORE_COURSE_NAME_6_S   3319    3400    object\n",
      "CORE_COURSE_GRADE_6_S   3319    3400    object\n",
      "HOUSING_STS   0    3400    object\n",
      "RETURNED_2ND_YR   0    3400    int64\n",
      "DISTANCE_FROM_HOME   25    3400    float64\n",
      "HIGH_SCHL_GPA   53    3400    float64\n",
      "HIGH_SCHL_NAME   1    3400    object\n",
      "FATHER_HI_EDU_CD   432    3400    float64\n",
      "FATHER_HI_EDU_DESC   0    3400    object\n",
      "MOTHER_HI_EDU_CD   489    3400    float64\n",
      "MOTHER_HI_EDU_DESC   0    3400    object\n",
      "DEGREE_GROUP_CD   0    3400    object\n",
      "DEGREE_GROUP_DESC   0    3400    object\n",
      "FIRST_TERM_ATTEMPT_HRS   0    3400    int64\n",
      "FIRST_TERM_EARNED_HRS   0    3400    int64\n",
      "SECOND_TERM_ATTEMPT_HRS   206    3400    float64\n",
      "SECOND_TERM_EARNED_HRS   209    3400    float64\n",
      "GROSS_FIN_NEED   0    3400    int64\n",
      "COST_OF_ATTEND   0    3400    int64\n",
      "EST_FAM_CONTRIBUTION   0    3400    int64\n",
      "UNMET_NEED   0    3400    float64\n"
     ]
    }
   ],
   "source": [
    "for i in df.columns:\n",
    "    print(i,\" \",df[i].isnull().sum(),\"  \", len(df[\"STDNT_AGE\"]),\"  \", df[i].dtype)"
   ]
  },
  {
   "cell_type": "markdown",
   "metadata": {},
   "source": [
    "# Getting Rid of the Null Values"
   ]
  },
  {
   "cell_type": "code",
   "execution_count": 1196,
   "metadata": {},
   "outputs": [],
   "source": [
    "columns=[\"SECOND_TERM_EARNED_HRS\",\"SECOND_TERM_ATTEMPT_HRS\",\"MOTHER_HI_EDU_CD\",\"FATHER_HI_EDU_CD\",\"HIGH_SCHL_GPA\"\n",
    "        ,\"DISTANCE_FROM_HOME\",\"STDNT_TEST_ENTRANCE_COMB\"]"
   ]
  },
  {
   "cell_type": "code",
   "execution_count": 1197,
   "metadata": {},
   "outputs": [],
   "source": [
    "for i in columns:\n",
    "    df[i]=df[i].replace(np.nan,df[i].mean())"
   ]
  },
  {
   "cell_type": "markdown",
   "metadata": {},
   "source": [
    "# Dealing with Categorial Variables"
   ]
  },
  {
   "cell_type": "code",
   "execution_count": 1198,
   "metadata": {},
   "outputs": [],
   "source": [
    "columns=[\"CORE_COURSE_GRADE_1_F\",\"CORE_COURSE_GRADE_2_F\",\"CORE_COURSE_GRADE_3_F\"]"
   ]
  },
  {
   "cell_type": "code",
   "execution_count": 1199,
   "metadata": {},
   "outputs": [],
   "source": [
    "for i in columns:\n",
    "    df[i]=df[i].replace({\"A\":5,\"B\":4,\"C\":3,\"D\":2,\"F\":1,\"INCOMPL\":0,\"NOT REP\":0})"
   ]
  },
  {
   "cell_type": "code",
   "execution_count": 1200,
   "metadata": {},
   "outputs": [],
   "source": [
    "columns=[\"CORE_COURSE_GRADE_4_F\"]\n",
    "for i in columns:\n",
    "    df[i]=df[i].replace({\"A\":5,\"B\":4,\"C\":3,\"D\":2,\"F\":1,\"INCOMPL\":0})"
   ]
  },
  {
   "cell_type": "code",
   "execution_count": 1201,
   "metadata": {},
   "outputs": [],
   "source": [
    "columns=[\"CORE_COURSE_GRADE_5_F\",\"CORE_COURSE_GRADE_6_F\"]\n",
    "for i in columns:\n",
    "    df[i]=df[i].replace({\"A\":5,\"B\":4,\"C\":3,\"D\":2})"
   ]
  },
  {
   "cell_type": "code",
   "execution_count": 1202,
   "metadata": {},
   "outputs": [],
   "source": [
    "columns=[\"CORE_COURSE_GRADE_2_S\",\"CORE_COURSE_GRADE_3_S\"]\n",
    "for i in columns:\n",
    "    df[i]=df[i].replace({\"A\":5,\"B\":4,\"C\":3,\"D\":2,\"F\":1,\"INCOMPL\":0})\n",
    "columns=[\"CORE_COURSE_GRADE_1_S\"]\n",
    "for i in columns:\n",
    "    df[i]=df[i].replace({\"A\":5,\"B\":4,\"C\":3,\"D\":2,\"F\":1,\"INCOMPL\":0,\"NOT REP\":0,\"Unknown\":0})\n",
    "columns=[\"CORE_COURSE_GRADE_4_S\",\"CORE_COURSE_GRADE_5_S\"]\n",
    "for i in columns:\n",
    "    df[i]=df[i].replace({\"A\":5,\"B\":4,\"C\":3,\"D\":2,\"F\":1})"
   ]
  },
  {
   "cell_type": "markdown",
   "metadata": {},
   "source": [
    "**Hence we may drop CORE_COURSE_GRADE_6_S,CORE_COURSE_GRADE_6_F,CORE_COURSE_GRADE_5_F,CORE_COURSE_GRADE_6_S"
   ]
  },
  {
   "cell_type": "markdown",
   "metadata": {},
   "source": [
    "# EDA"
   ]
  },
  {
   "cell_type": "code",
   "execution_count": 1049,
   "metadata": {},
   "outputs": [],
   "source": [
    "columns=[\"CORE_COURSE_GRADE_1_S\",\"CORE_COURSE_GRADE_1_F\",\"CORE_COURSE_GRADE_2_F\",\"CORE_COURSE_GRADE_3_F\"\n",
    "        ,\"CORE_COURSE_GRADE_4_F\",\"CORE_COURSE_GRADE_5_F\",\"CORE_COURSE_GRADE_6_F\"\n",
    "        ,\"CORE_COURSE_GRADE_2_S\",\"CORE_COURSE_GRADE_3_S\",\"CORE_COURSE_GRADE_4_S\"\n",
    "        ,\"CORE_COURSE_GRADE_5_S\"]"
   ]
  },
  {
   "cell_type": "code",
   "execution_count": 1203,
   "metadata": {},
   "outputs": [],
   "source": [
    "a=(df[\"RETURNED_2ND_YR\"].value_counts()[0])/(df[\"RETURNED_2ND_YR\"].value_counts()[0]+df[\"RETURNED_2ND_YR\"].value_counts()[1])"
   ]
  },
  {
   "cell_type": "code",
   "execution_count": 1204,
   "metadata": {},
   "outputs": [
    {
     "data": {
      "text/plain": [
       "BGD 1    2082\n",
       "BGD 3     947\n",
       "BGD 4     139\n",
       "BGD 2     106\n",
       "BGD 6      94\n",
       "BGD 7      19\n",
       "BGD 5       8\n",
       "BGD 8       5\n",
       "Name: STDNT_BACKGROUND, dtype: int64"
      ]
     },
     "execution_count": 1204,
     "metadata": {},
     "output_type": "execute_result"
    }
   ],
   "source": [
    "df[\"STDNT_BACKGROUND\"].value_counts()"
   ]
  },
  {
   "cell_type": "code",
   "execution_count": 1205,
   "metadata": {},
   "outputs": [],
   "source": [
    "df_dropped=df[df[\"RETURNED_2ND_YR\"]==0]\n",
    "df_continued=df[df[\"RETURNED_2ND_YR\"]==1]"
   ]
  },
  {
   "cell_type": "code",
   "execution_count": 1306,
   "metadata": {},
   "outputs": [],
   "source": [
    "categorial_variables=[]\n",
    "for i in df.columns:\n",
    "    if len(df[i].value_counts())<=10:\n",
    "        categorial_variables.append(i)"
   ]
  },
  {
   "cell_type": "code",
   "execution_count": 1307,
   "metadata": {
    "scrolled": true
   },
   "outputs": [
    {
     "data": {
      "text/plain": [
       "['STDNT_GENDER',\n",
       " 'STDNT_BACKGROUND',\n",
       " 'IN_STATE_FLAG',\n",
       " 'INTERNATIONAL_STS',\n",
       " 'FIRST_TERM',\n",
       " 'CORE_COURSE_GRADE_1_F',\n",
       " 'CORE_COURSE_GRADE_2_F',\n",
       " 'CORE_COURSE_GRADE_3_F',\n",
       " 'CORE_COURSE_GRADE_4_F',\n",
       " 'SECOND_TERM',\n",
       " 'CORE_COURSE_GRADE_1_S',\n",
       " 'CORE_COURSE_GRADE_2_S',\n",
       " 'CORE_COURSE_GRADE_3_S',\n",
       " 'CORE_COURSE_GRADE_4_S',\n",
       " 'HOUSING_STS',\n",
       " 'RETURNED_2ND_YR',\n",
       " 'FATHER_HI_EDU_CD',\n",
       " 'FATHER_HI_EDU_DESC',\n",
       " 'MOTHER_HI_EDU_CD',\n",
       " 'MOTHER_HI_EDU_DESC',\n",
       " 'DEGREE_GROUP_CD',\n",
       " 'DEGREE_GROUP_DESC']"
      ]
     },
     "execution_count": 1307,
     "metadata": {},
     "output_type": "execute_result"
    }
   ],
   "source": [
    "categorial_variables"
   ]
  },
  {
   "cell_type": "code",
   "execution_count": 1308,
   "metadata": {},
   "outputs": [],
   "source": [
    "del categorial_variables[4]\n",
    "del categorial_variables[8]\n",
    "del categorial_variables[13]                     "
   ]
  },
  {
   "cell_type": "code",
   "execution_count": 1309,
   "metadata": {},
   "outputs": [
    {
     "data": {
      "text/plain": [
       "['STDNT_GENDER',\n",
       " 'STDNT_BACKGROUND',\n",
       " 'IN_STATE_FLAG',\n",
       " 'INTERNATIONAL_STS',\n",
       " 'CORE_COURSE_GRADE_1_F',\n",
       " 'CORE_COURSE_GRADE_2_F',\n",
       " 'CORE_COURSE_GRADE_3_F',\n",
       " 'CORE_COURSE_GRADE_4_F',\n",
       " 'CORE_COURSE_GRADE_1_S',\n",
       " 'CORE_COURSE_GRADE_2_S',\n",
       " 'CORE_COURSE_GRADE_3_S',\n",
       " 'CORE_COURSE_GRADE_4_S',\n",
       " 'HOUSING_STS',\n",
       " 'FATHER_HI_EDU_CD',\n",
       " 'FATHER_HI_EDU_DESC',\n",
       " 'MOTHER_HI_EDU_CD',\n",
       " 'MOTHER_HI_EDU_DESC',\n",
       " 'DEGREE_GROUP_CD',\n",
       " 'DEGREE_GROUP_DESC']"
      ]
     },
     "execution_count": 1309,
     "metadata": {},
     "output_type": "execute_result"
    }
   ],
   "source": [
    "categorial_variables"
   ]
  },
  {
   "cell_type": "code",
   "execution_count": 1310,
   "metadata": {
    "scrolled": false
   },
   "outputs": [
    {
     "name": "stdout",
     "output_type": "stream",
     "text": [
      "Ratio of no of returned students vs no of non-returned students in dataset - 0.2126470588235294\n",
      "STDNT_GENDER\n",
      "F  0.2219626168224299\n",
      "M  0.19682539682539682\n",
      "STDNT_BACKGROUND\n",
      "BGD 1  0.22910662824207492\n",
      "BGD 3  0.1795142555438226\n",
      "BGD 4  0.18705035971223022\n",
      "BGD 2  0.22641509433962265\n",
      "BGD 6  0.14893617021276595\n",
      "BGD 7  0.3684210526315789\n",
      "BGD 5  0.5\n",
      "BGD 8  0.2\n",
      "IN_STATE_FLAG\n",
      "Y  0.2069866144302971\n",
      "N  0.26409495548961426\n",
      "INTERNATIONAL_STS\n",
      "N  0.2107915801956715\n",
      "Y  0.4444444444444444\n",
      "CORE_COURSE_GRADE_1_F\n",
      "3  0.2074074074074074\n",
      "4  0.3522727272727273\n",
      "2  0.27695167286245354\n",
      "1  0.1982421875\n",
      "5  0.1381509032943677\n",
      "0  0.18012422360248448\n",
      "CORE_COURSE_GRADE_2_F\n",
      "4.0  0.2857142857142857\n",
      "3.0  0.4634146341463415\n",
      "5.0  0.2842465753424658\n",
      "2.0  0.2691823899371069\n",
      "1.0  0.17475728155339806\n",
      "0.0  0.15167785234899328\n",
      "CORE_COURSE_GRADE_3_F\n",
      "4.0  28 0.6428571428571429\n",
      "5.0  103 0.36893203883495146\n",
      "3.0  416 0.28846153846153844\n",
      "2.0  1155 0.21212121212121213\n",
      "1.0  1132 0.16431095406360424\n",
      "CORE_COURSE_GRADE_4_F\n",
      "5.0  4 0.25\n",
      "4.0  27 0.7037037037037037\n",
      "3.0  137 0.30656934306569344\n",
      "2.0  540 0.23333333333333334\n",
      "1.0  1094 0.18738574040219377\n",
      "CORE_COURSE_GRADE_1_S\n",
      "3.0  0.28205128205128205\n",
      "4.0  0.31353919239904987\n",
      "2.0  0.1996007984031936\n",
      "1.0  0.141280353200883\n",
      "5.0  0.11272321428571429\n",
      "0.0  0.13934426229508196\n",
      "CORE_COURSE_GRADE_2_S\n",
      "4.0  0.5\n",
      "5.0  0.45390070921985815\n",
      "3.0  0.30357142857142855\n",
      "2.0  0.16905444126074498\n",
      "1.0  0.13148479427549195\n",
      "0.0  0.13367609254498714\n",
      "CORE_COURSE_GRADE_3_S\n",
      "5.0  1.0\n",
      "4.0  0.4864864864864865\n",
      "3.0  0.3625\n",
      "2.0  0.2569832402234637\n",
      "1.0  0.14814814814814814\n",
      "0.0  0.13668341708542714\n",
      "CORE_COURSE_GRADE_4_S\n",
      "5.0  7 0.5714285714285714\n",
      "4.0  30 0.5\n",
      "3.0  109 0.26605504587155965\n",
      "2.0  439 0.1845102505694761\n",
      "HOUSING_STS\n",
      "Off Campus  0.19636547198384655\n",
      "On Campus  0.23537702607470048\n",
      "FATHER_HI_EDU_CD\n",
      "2.0  97 0.26804123711340205\n",
      "3.0  1336 0.21631736526946108\n",
      "2.560646900269542  1309 0.19633307868601987\n",
      "4.0  226 0.21238938053097345\n",
      "FATHER_HI_EDU_DESC\n",
      "High School  0.21631736526946108\n",
      "College/Beyond  0.19633307868601987\n",
      "No Information  0.23842592592592593\n",
      "Other/Unknown  0.21238938053097345\n",
      "Middle School/Junior High  0.26804123711340205\n",
      "MOTHER_HI_EDU_CD\n",
      "3.0  71 0.22535211267605634\n",
      "2.0  1223 0.21668029435813574\n",
      "2.571281346616283  1500 0.20066666666666666\n",
      "4.0  117 0.15384615384615385\n",
      "MOTHER_HI_EDU_DESC\n",
      "College/Beyond  0.20066666666666666\n",
      "High School  0.21668029435813574\n",
      "No Information  0.25153374233128833\n",
      "Other/Unknown  0.15384615384615385\n",
      "Middle School/Junior High  0.22535211267605634\n",
      "DEGREE_GROUP_CD\n",
      "B  0.2127659574468085\n",
      "A  0.16666666666666666\n",
      "V  0.25\n",
      "DEGREE_GROUP_DESC\n",
      "Bachelors  0.2127659574468085\n",
      "Associate  0.16666666666666666\n",
      "Career Associate  0.25\n"
     ]
    }
   ],
   "source": [
    "print(\"Ratio of no of returned students vs no of non-returned students in dataset -\",a)\n",
    "for j in categorial_variables:\n",
    "    print(j)\n",
    "    try:     \n",
    "        for i in range(len(df[j].value_counts())):\n",
    "            drop_rate=df_dropped[j].value_counts()[i]/df[j].value_counts()[i]\n",
    "            print(df[j].value_counts().index[i],\"\",drop_rate)\n",
    "    except:\n",
    "        try:\n",
    "            for i in range (len(df[j].value_counts())-1):\n",
    "                drop_rate=df_dropped[j].value_counts()[i+1]/df[j].value_counts()[i+1]\n",
    "                print(df[j].value_counts().index[i],\"\",df[j].value_counts()[i+1],drop_rate)\n",
    "        except:\n",
    "            try:\n",
    "                for i in range (len(df[j].value_counts()-2)):\n",
    "                    drop_rate=df_dropped[j].value_counts()[i+2]/df[j].value_counts()[i+2]\n",
    "                    print(df[j].value_counts().index[i],\"\",df[j].value_counts()[i+2],drop_rate)\n",
    "            except:\n",
    "                print(\"\")"
   ]
  },
  {
   "cell_type": "code",
   "execution_count": 1216,
   "metadata": {},
   "outputs": [],
   "source": [
    "import seaborn as sns"
   ]
  },
  {
   "cell_type": "code",
   "execution_count": 1217,
   "metadata": {},
   "outputs": [
    {
     "data": {
      "text/plain": [
       "<matplotlib.axes._subplots.AxesSubplot at 0x7fae5261d4d0>"
      ]
     },
     "execution_count": 1217,
     "metadata": {},
     "output_type": "execute_result"
    },
    {
     "data": {
      "image/png": "[encoded data removed]",
      "text/plain": [
       "<Figure size 432x288 with 1 Axes>"
      ]
     },
     "metadata": {
      "needs_background": "light"
     },
     "output_type": "display_data"
    }
   ],
   "source": [
    "sns.boxplot(df[\"RETURNED_2ND_YR\"],df[df[\"DISTANCE_FROM_HOME\"]<200][\"DISTANCE_FROM_HOME\"])"
   ]
  },
  {
   "cell_type": "code",
   "execution_count": 1220,
   "metadata": {
    "scrolled": true
   },
   "outputs": [
    {
     "data": {
      "text/plain": [
       "<matplotlib.axes._subplots.AxesSubplot at 0x7fae52960bd0>"
      ]
     },
     "execution_count": 1220,
     "metadata": {},
     "output_type": "execute_result"
    },
    {
     "data": {
      "image/png": "[encoded data removed]",
      "text/plain": [
       "<Figure size 432x288 with 1 Axes>"
      ]
     },
     "metadata": {
      "needs_background": "light"
     },
     "output_type": "display_data"
    }
   ],
   "source": [
    "sns.boxplot(df[\"RETURNED_2ND_YR\"],df[df[\"HIGH_SCHL_GPA\"]>=2][\"HIGH_SCHL_GPA\"])"
   ]
  },
  {
   "cell_type": "code",
   "execution_count": 1221,
   "metadata": {},
   "outputs": [
    {
     "data": {
      "text/plain": [
       "<matplotlib.axes._subplots.AxesSubplot at 0x7fae53083c90>"
      ]
     },
     "execution_count": 1221,
     "metadata": {},
     "output_type": "execute_result"
    },
    {
     "data": {
      "image/png": "[encoded data removed]",
      "text/plain": [
       "<Figure size 432x288 with 1 Axes>"
      ]
     },
     "metadata": {
      "needs_background": "light"
     },
     "output_type": "display_data"
    }
   ],
   "source": [
    "sns.boxplot(df[\"RETURNED_2ND_YR\"],df[df[\"FIRST_TERM_EARNED_HRS\"]>=2][\"FIRST_TERM_EARNED_HRS\"])"
   ]
  },
  {
   "cell_type": "code",
   "execution_count": 1235,
   "metadata": {},
   "outputs": [
    {
     "data": {
      "text/plain": [
       "<matplotlib.axes._subplots.AxesSubplot at 0x7fae52700850>"
      ]
     },
     "execution_count": 1235,
     "metadata": {},
     "output_type": "execute_result"
    },
    {
     "data": {
      "image/png": "[encoded data removed]",
      "text/plain": [
       "<Figure size 432x288 with 1 Axes>"
      ]
     },
     "metadata": {
      "needs_background": "light"
     },
     "output_type": "display_data"
    }
   ],
   "source": [
    "sns.boxplot(df[\"RETURNED_2ND_YR\"],df[df[\"SECOND_TERM_ATTEMPT_HRS\"]>=5][\"SECOND_TERM_ATTEMPT_HRS\"])"
   ]
  },
  {
   "cell_type": "code",
   "execution_count": 1236,
   "metadata": {},
   "outputs": [
    {
     "data": {
      "text/plain": [
       "<matplotlib.axes._subplots.AxesSubplot at 0x7fae5303e910>"
      ]
     },
     "execution_count": 1236,
     "metadata": {},
     "output_type": "execute_result"
    },
    {
     "data": {
      "image/png": "[encoded data removed]",
      "text/plain": [
       "<Figure size 432x288 with 1 Axes>"
      ]
     },
     "metadata": {
      "needs_background": "light"
     },
     "output_type": "display_data"
    }
   ],
   "source": [
    "sns.boxplot(df[\"RETURNED_2ND_YR\"],df[df[\"SECOND_TERM_EARNED_HRS\"]>=6][\"SECOND_TERM_EARNED_HRS\"])"
   ]
  },
  {
   "cell_type": "code",
   "execution_count": 1237,
   "metadata": {},
   "outputs": [
    {
     "data": {
      "text/plain": [
       "<matplotlib.axes._subplots.AxesSubplot at 0x7fae524814d0>"
      ]
     },
     "execution_count": 1237,
     "metadata": {},
     "output_type": "execute_result"
    },
    {
     "data": {
      "image/png": "[encoded data removed]",
      "text/plain": [
       "<Figure size 432x288 with 1 Axes>"
      ]
     },
     "metadata": {
      "needs_background": "light"
     },
     "output_type": "display_data"
    }
   ],
   "source": [
    "sns.boxplot(df[\"RETURNED_2ND_YR\"],df[\"COST_OF_ATTEND\"])"
   ]
  },
  {
   "cell_type": "code",
   "execution_count": 1238,
   "metadata": {},
   "outputs": [
    {
     "data": {
      "text/plain": [
       "<matplotlib.axes._subplots.AxesSubplot at 0x7fae5250b290>"
      ]
     },
     "execution_count": 1238,
     "metadata": {},
     "output_type": "execute_result"
    },
    {
     "data": {
      "image/png": "[encoded data removed]",
      "text/plain": [
       "<Figure size 432x288 with 1 Axes>"
      ]
     },
     "metadata": {
      "needs_background": "light"
     },
     "output_type": "display_data"
    }
   ],
   "source": [
    "sns.boxplot(df[\"RETURNED_2ND_YR\"],df[\"GROSS_FIN_NEED\"])"
   ]
  },
  {
   "cell_type": "code",
   "execution_count": 1245,
   "metadata": {},
   "outputs": [
    {
     "data": {
      "text/plain": [
       "<matplotlib.axes._subplots.AxesSubplot at 0x7fae334d0650>"
      ]
     },
     "execution_count": 1245,
     "metadata": {},
     "output_type": "execute_result"
    },
    {
     "data": {
      "image/png": "[encoded data removed]",
      "text/plain": [
       "<Figure size 432x288 with 1 Axes>"
      ]
     },
     "metadata": {
      "needs_background": "light"
     },
     "output_type": "display_data"
    }
   ],
   "source": [
    "sns.boxplot(df[\"RETURNED_2ND_YR\"],df[df[\"EST_FAM_CONTRIBUTION\"]<=1000000][\"EST_FAM_CONTRIBUTION\"])"
   ]
  },
  {
   "cell_type": "code",
   "execution_count": 1246,
   "metadata": {},
   "outputs": [
    {
     "data": {
      "text/plain": [
       "<matplotlib.axes._subplots.AxesSubplot at 0x7fae33523590>"
      ]
     },
     "execution_count": 1246,
     "metadata": {},
     "output_type": "execute_result"
    },
    {
     "data": {
      "image/png": "[encoded data removed]",
      "text/plain": [
       "<Figure size 432x288 with 1 Axes>"
      ]
     },
     "metadata": {
      "needs_background": "light"
     },
     "output_type": "display_data"
    }
   ],
   "source": [
    "sns.boxplot(df[\"RETURNED_2ND_YR\"],df[\"CORE_COURSE_GRADE_1_F\"])"
   ]
  },
  {
   "cell_type": "code",
   "execution_count": 1247,
   "metadata": {},
   "outputs": [
    {
     "data": {
      "text/plain": [
       "<matplotlib.axes._subplots.AxesSubplot at 0x7fae33687e50>"
      ]
     },
     "execution_count": 1247,
     "metadata": {},
     "output_type": "execute_result"
    },
    {
     "data": {
      "image/png": "[encoded data removed]",
      "text/plain": [
       "<Figure size 432x288 with 1 Axes>"
      ]
     },
     "metadata": {
      "needs_background": "light"
     },
     "output_type": "display_data"
    }
   ],
   "source": [
    "sns.boxplot(df[\"RETURNED_2ND_YR\"],df[\"CORE_COURSE_GRADE_2_F\"])"
   ]
  },
  {
   "cell_type": "code",
   "execution_count": 1248,
   "metadata": {},
   "outputs": [
    {
     "data": {
      "text/plain": [
       "<matplotlib.axes._subplots.AxesSubplot at 0x7fae33776410>"
      ]
     },
     "execution_count": 1248,
     "metadata": {},
     "output_type": "execute_result"
    },
    {
     "data": {
      "image/png": "[encoded data removed]",
      "text/plain": [
       "<Figure size 432x288 with 1 Axes>"
      ]
     },
     "metadata": {
      "needs_background": "light"
     },
     "output_type": "display_data"
    }
   ],
   "source": [
    "sns.boxplot(df[\"RETURNED_2ND_YR\"],df[\"CORE_COURSE_GRADE_3_F\"])"
   ]
  },
  {
   "cell_type": "code",
   "execution_count": 1249,
   "metadata": {},
   "outputs": [
    {
     "data": {
      "text/plain": [
       "<matplotlib.axes._subplots.AxesSubplot at 0x7fae33872a90>"
      ]
     },
     "execution_count": 1249,
     "metadata": {},
     "output_type": "execute_result"
    },
    {
     "data": {
      "image/png": "[encoded data removed]",
      "text/plain": [
       "<Figure size 432x288 with 1 Axes>"
      ]
     },
     "metadata": {
      "needs_background": "light"
     },
     "output_type": "display_data"
    }
   ],
   "source": [
    "sns.boxplot(df[\"RETURNED_2ND_YR\"],df[\"CORE_COURSE_GRADE_4_F\"])"
   ]
  },
  {
   "cell_type": "code",
   "execution_count": 1253,
   "metadata": {},
   "outputs": [
    {
     "data": {
      "text/plain": [
       "<matplotlib.axes._subplots.AxesSubplot at 0x7fae33d3f590>"
      ]
     },
     "execution_count": 1253,
     "metadata": {},
     "output_type": "execute_result"
    },
    {
     "data": {
      "image/png": "[encoded data removed]",
      "text/plain": [
       "<Figure size 432x288 with 1 Axes>"
      ]
     },
     "metadata": {
      "needs_background": "light"
     },
     "output_type": "display_data"
    }
   ],
   "source": [
    "sns.boxplot(df[\"RETURNED_2ND_YR\"],df[\"CORE_COURSE_GRADE_1_S\"])"
   ]
  },
  {
   "cell_type": "code",
   "execution_count": 1252,
   "metadata": {},
   "outputs": [
    {
     "data": {
      "text/plain": [
       "<matplotlib.axes._subplots.AxesSubplot at 0x7fae33c36a10>"
      ]
     },
     "execution_count": 1252,
     "metadata": {},
     "output_type": "execute_result"
    },
    {
     "data": {
      "image/png": "[encoded data removed]",
      "text/plain": [
       "<Figure size 432x288 with 1 Axes>"
      ]
     },
     "metadata": {
      "needs_background": "light"
     },
     "output_type": "display_data"
    }
   ],
   "source": [
    "sns.boxplot(df[\"RETURNED_2ND_YR\"],df[\"CORE_COURSE_GRADE_2_S\"])"
   ]
  },
  {
   "cell_type": "code",
   "execution_count": 1254,
   "metadata": {
    "scrolled": true
   },
   "outputs": [
    {
     "data": {
      "text/plain": [
       "<matplotlib.axes._subplots.AxesSubplot at 0x7fae33e33e50>"
      ]
     },
     "execution_count": 1254,
     "metadata": {},
     "output_type": "execute_result"
    },
    {
     "data": {
      "image/png": "[encoded data removed]",
      "text/plain": [
       "<Figure size 432x288 with 1 Axes>"
      ]
     },
     "metadata": {
      "needs_background": "light"
     },
     "output_type": "display_data"
    }
   ],
   "source": [
    "sns.boxplot(df[\"RETURNED_2ND_YR\"],df[\"CORE_COURSE_GRADE_3_S\"])"
   ]
  },
  {
   "cell_type": "code",
   "execution_count": 1313,
   "metadata": {},
   "outputs": [
    {
     "data": {
      "text/plain": [
       "<matplotlib.axes._subplots.AxesSubplot at 0x7fae38198250>"
      ]
     },
     "execution_count": 1313,
     "metadata": {},
     "output_type": "execute_result"
    },
    {
     "data": {
      "image/png": "[encoded data removed]",
      "text/plain": [
       "<Figure size 432x288 with 1 Axes>"
      ]
     },
     "metadata": {
      "needs_background": "light"
     },
     "output_type": "display_data"
    }
   ],
   "source": [
    "sns.boxplot(df[\"RETURNED_2ND_YR\"],df[\"STDNT_TEST_ENTRANCE_COMB\"])"
   ]
  },
  {
   "cell_type": "code",
   "execution_count": 1259,
   "metadata": {},
   "outputs": [
    {
     "data": {
      "text/plain": [
       "<matplotlib.axes._subplots.AxesSubplot at 0x7fae3420a450>"
      ]
     },
     "execution_count": 1259,
     "metadata": {},
     "output_type": "execute_result"
    },
    {
     "data": {
      "image/png": "[encoded data removed]",
      "text/plain": [
       "<Figure size 432x288 with 1 Axes>"
      ]
     },
     "metadata": {
      "needs_background": "light"
     },
     "output_type": "display_data"
    }
   ],
   "source": [
    "sns.boxplot(df[\"RETURNED_2ND_YR\"],df[\"STDNT_TEST_ENTRANCE1\"])"
   ]
  },
  {
   "cell_type": "code",
   "execution_count": 1261,
   "metadata": {},
   "outputs": [
    {
     "data": {
      "text/plain": [
       "<matplotlib.axes._subplots.AxesSubplot at 0x7fae344a7dd0>"
      ]
     },
     "execution_count": 1261,
     "metadata": {},
     "output_type": "execute_result"
    },
    {
     "data": {
      "image/png": "[encoded data removed]",
      "text/plain": [
       "<Figure size 432x288 with 1 Axes>"
      ]
     },
     "metadata": {
      "needs_background": "light"
     },
     "output_type": "display_data"
    }
   ],
   "source": [
    "sns.boxplot(df[\"RETURNED_2ND_YR\"],df[\"STDNT_TEST_ENTRANCE2\"])"
   ]
  },
  {
   "cell_type": "markdown",
   "metadata": {},
   "source": [
    "# Checking whether any of the student major has highest contribution in dropping out of the students"
   ]
  },
  {
   "cell_type": "code",
   "execution_count": 1262,
   "metadata": {},
   "outputs": [],
   "source": [
    "sto=df[\"STDNT_MAJOR\"].value_counts()"
   ]
  },
  {
   "cell_type": "code",
   "execution_count": 1263,
   "metadata": {},
   "outputs": [],
   "source": [
    "stn=df_dropped[\"STDNT_MAJOR\"].value_counts()"
   ]
  },
  {
   "cell_type": "code",
   "execution_count": 1264,
   "metadata": {},
   "outputs": [],
   "source": [
    "df_test=pd.DataFrame()"
   ]
  },
  {
   "cell_type": "code",
   "execution_count": 1266,
   "metadata": {},
   "outputs": [],
   "source": [
    "df_test[\"total\"]=sto\n",
    "df_test[\"dropped\"]=stn"
   ]
  },
  {
   "cell_type": "code",
   "execution_count": 1267,
   "metadata": {},
   "outputs": [],
   "source": [
    "df_test[\"difference\"]=df_test[\"total\"]-df_test[\"dropped\"]"
   ]
  },
  {
   "cell_type": "code",
   "execution_count": 1268,
   "metadata": {},
   "outputs": [],
   "source": [
    "df_test[\"drop_per\"]=(df_test[\"dropped\"]*100)/df_test[\"total\"]"
   ]
  },
  {
   "cell_type": "code",
   "execution_count": 1270,
   "metadata": {},
   "outputs": [],
   "source": [
    "df_test=df_test.sort_values(by=\"drop_per\",ascending=False)"
   ]
  },
  {
   "cell_type": "code",
   "execution_count": 1279,
   "metadata": {},
   "outputs": [],
   "source": [
    "df_test=df_test[df_test[\"drop_per\"]>=25]"
   ]
  },
  {
   "cell_type": "code",
   "execution_count": 1282,
   "metadata": {},
   "outputs": [
    {
     "data": {
      "text/plain": [
       "<matplotlib.axes._subplots.AxesSubplot at 0x7fae37786050>"
      ]
     },
     "execution_count": 1282,
     "metadata": {},
     "output_type": "execute_result"
    },
    {
     "data": {
      "image/png": "[encoded data removed]",
      "text/plain": [
       "<Figure size 1152x576 with 1 Axes>"
      ]
     },
     "metadata": {
      "needs_background": "light"
     },
     "output_type": "display_data"
    }
   ],
   "source": [
    "df_test[[\"drop_per\"]].plot(kind=\"bar\",figsize=(16,8),legend=True)"
   ]
  },
  {
   "cell_type": "markdown",
   "metadata": {},
   "source": [
    "# Transforming Student Major to Ordinal Category"
   ]
  },
  {
   "cell_type": "code",
   "execution_count": 1284,
   "metadata": {},
   "outputs": [],
   "source": [
    "_3=df_test[df_test[\"drop_per\"]>=30]\n",
    "_2=df_test[(df_test[\"drop_per\"]>=20) & (df_test[\"drop_per\"]<30)]\n",
    "_1=df_test[df_test[\"drop_per\"]<20]"
   ]
  },
  {
   "cell_type": "code",
   "execution_count": 1285,
   "metadata": {},
   "outputs": [],
   "source": [
    "_3=list(_3.index)\n",
    "_2=list(_2.index)\n",
    "_1=list(_1.index)"
   ]
  },
  {
   "cell_type": "markdown",
   "metadata": {},
   "source": [
    "# _3-Sub Majors with more than 30% student drop rate\n",
    "# _2-Sub Majors with 20-30 % student drop rate\n",
    "# _3-Sub Majors with below 20% student drop rate"
   ]
  },
  {
   "cell_type": "code",
   "execution_count": 1292,
   "metadata": {},
   "outputs": [
    {
     "data": {
      "text/plain": [
       "['Biology and Secondary Ed',\n",
       " 'Earth and Space Science',\n",
       " 'Music',\n",
       " 'Computer Science - Games',\n",
       " 'Finance',\n",
       " 'Management Information Systems',\n",
       " 'Information Technology']"
      ]
     },
     "execution_count": 1292,
     "metadata": {},
     "output_type": "execute_result"
    }
   ],
   "source": [
    "_3"
   ]
  },
  {
   "cell_type": "code",
   "execution_count": 1293,
   "metadata": {
    "scrolled": false
   },
   "outputs": [
    {
     "data": {
      "text/plain": [
       "['Criminal Justice',\n",
       " 'Psychology',\n",
       " 'Pre-Nursing',\n",
       " 'Pre-Engineering/RETP',\n",
       " 'History and Secondary Ed',\n",
       " 'Marketing',\n",
       " 'French with Teacher Cert',\n",
       " 'Spanish with Teacher Cert',\n",
       " 'French',\n",
       " 'Engineering Studies',\n",
       " 'Health and Physical Education']"
      ]
     },
     "execution_count": 1293,
     "metadata": {},
     "output_type": "execute_result"
    }
   ],
   "source": [
    "_2"
   ]
  },
  {
   "cell_type": "markdown",
   "metadata": {},
   "source": [
    "# PCA "
   ]
  },
  {
   "cell_type": "code",
   "execution_count": 1258,
   "metadata": {},
   "outputs": [],
   "source": [
    "df=df.drop(columns=[\"CORE_COURSE_GRADE_6_S\",\"CORE_COURSE_GRADE_6_F\",\"CORE_COURSE_GRADE_5_S\",\"CORE_COURSE_GRADE_5_F\",\"CORE_COURSE_GRADE_4_F\"])"
   ]
  },
  {
   "cell_type": "code",
   "execution_count": 395,
   "metadata": {},
   "outputs": [],
   "source": [
    "a=pd.get_dummies(df[\"STDNT_BACKGROUND\"])"
   ]
  },
  {
   "cell_type": "code",
   "execution_count": 396,
   "metadata": {},
   "outputs": [],
   "source": [
    "df=pd.concat([df,a],axis=1)"
   ]
  },
  {
   "cell_type": "code",
   "execution_count": 397,
   "metadata": {},
   "outputs": [],
   "source": [
    "from sklearn.decomposition import PCA"
   ]
  },
  {
   "cell_type": "code",
   "execution_count": 398,
   "metadata": {},
   "outputs": [],
   "source": [
    "pca=PCA(n_components=1)"
   ]
  },
  {
   "cell_type": "code",
   "execution_count": 399,
   "metadata": {
    "scrolled": true
   },
   "outputs": [
    {
     "data": {
      "text/plain": [
       "array([0.71947465])"
      ]
     },
     "execution_count": 399,
     "metadata": {},
     "output_type": "execute_result"
    }
   ],
   "source": [
    "p=pca.fit(df[[\"BGD 1\",\"BGD 2\",\"BGD 3\",\"BGD 4\",\"BGD 5\",\"BGD 6\",\"BGD 7\",\"BGD 8\"]])\n",
    "p=pca.transform(df[[\"BGD 1\",\"BGD 2\",\"BGD 3\",\"BGD 4\",\"BGD 5\",\"BGD 6\",\"BGD 7\",\"BGD 8\"]])\n",
    "pca.explained_variance_ratio_"
   ]
  },
  {
   "cell_type": "code",
   "execution_count": 400,
   "metadata": {
    "scrolled": true
   },
   "outputs": [
    {
     "data": {
      "text/plain": [
       "array([[-0.74608165,  0.02330026,  0.66437619,  0.03140018,  0.00162822,\n",
       "         0.02046201,  0.00389946,  0.00101534]])"
      ]
     },
     "execution_count": 400,
     "metadata": {},
     "output_type": "execute_result"
    }
   ],
   "source": [
    "pca.components_"
   ]
  },
  {
   "cell_type": "code",
   "execution_count": 401,
   "metadata": {},
   "outputs": [],
   "source": [
    "df[\"Background\"]=p"
   ]
  },
  {
   "cell_type": "code",
   "execution_count": 402,
   "metadata": {},
   "outputs": [],
   "source": [
    "df.drop(columns=[\"BGD 1\",\"BGD 2\",\"BGD 3\",\"BGD 4\",\"BGD 5\",\"BGD 6\",\"BGD 7\",\"BGD 8\"],inplace=True)"
   ]
  },
  {
   "cell_type": "code",
   "execution_count": 403,
   "metadata": {},
   "outputs": [],
   "source": [
    "df[\"IN_STATE_FLAG\"]=df[\"IN_STATE_FLAG\"].replace({\"Y\":1,\"N\":0})"
   ]
  },
  {
   "cell_type": "code",
   "execution_count": 404,
   "metadata": {},
   "outputs": [],
   "source": [
    "df[\"INTERNATIONAL_STS\"]=df[\"INTERNATIONAL_STS\"].replace({\"Y\":1,\"N\":0})"
   ]
  },
  {
   "cell_type": "markdown",
   "metadata": {},
   "source": [
    "**Female-1,Male-0"
   ]
  },
  {
   "cell_type": "code",
   "execution_count": 405,
   "metadata": {},
   "outputs": [],
   "source": [
    "df[\"STDNT_GENDER\"]=df[\"STDNT_GENDER\"].replace({\"F\":1,\"M\":0})"
   ]
  },
  {
   "cell_type": "code",
   "execution_count": 406,
   "metadata": {},
   "outputs": [
    {
     "data": {
      "text/plain": [
       "B    3384\n",
       "A      12\n",
       "V       4\n",
       "Name: DEGREE_GROUP_CD, dtype: int64"
      ]
     },
     "execution_count": 406,
     "metadata": {},
     "output_type": "execute_result"
    }
   ],
   "source": [
    "df[\"DEGREE_GROUP_CD\"].value_counts()"
   ]
  },
  {
   "cell_type": "code",
   "execution_count": 407,
   "metadata": {},
   "outputs": [
    {
     "data": {
      "text/plain": [
       "Bachelors           3384\n",
       "Associate             12\n",
       "Career Associate       4\n",
       "Name: DEGREE_GROUP_DESC, dtype: int64"
      ]
     },
     "execution_count": 407,
     "metadata": {},
     "output_type": "execute_result"
    }
   ],
   "source": [
    "df[\"DEGREE_GROUP_DESC\"].value_counts()"
   ]
  },
  {
   "cell_type": "markdown",
   "metadata": {},
   "source": [
    "# Drop Column Degree Group"
   ]
  },
  {
   "cell_type": "code",
   "execution_count": 408,
   "metadata": {},
   "outputs": [],
   "source": [
    "df.drop(columns=[\"DEGREE_GROUP_DESC\"],inplace=True)"
   ]
  },
  {
   "cell_type": "code",
   "execution_count": 409,
   "metadata": {},
   "outputs": [],
   "source": [
    "df.drop(columns=[\"DEGREE_GROUP_CD\"],inplace=True)"
   ]
  },
  {
   "cell_type": "code",
   "execution_count": 410,
   "metadata": {
    "scrolled": true
   },
   "outputs": [
    {
     "data": {
      "text/plain": [
       "Off Campus    1981\n",
       "On Campus     1419\n",
       "Name: HOUSING_STS, dtype: int64"
      ]
     },
     "execution_count": 410,
     "metadata": {},
     "output_type": "execute_result"
    }
   ],
   "source": [
    "df[\"HOUSING_STS\"].value_counts()"
   ]
  },
  {
   "cell_type": "code",
   "execution_count": 411,
   "metadata": {},
   "outputs": [],
   "source": [
    "df[\"HOUSING_STS\"]=df[\"HOUSING_STS\"].replace({\"Off Campus\":0,\"On Campus\":1})"
   ]
  },
  {
   "cell_type": "markdown",
   "metadata": {},
   "source": [
    "** On Campus-1,Off Campus-0"
   ]
  },
  {
   "cell_type": "code",
   "execution_count": 412,
   "metadata": {},
   "outputs": [],
   "source": [
    "df_new=df.drop(columns=[\"MOTHER_HI_EDU_DESC\",\"FATHER_HI_EDU_DESC\",\"HIGH_SCHL_NAME\",\"STDNT_BACKGROUND\"])"
   ]
  },
  {
   "cell_type": "markdown",
   "metadata": {},
   "source": [
    "# Dropping Students Minor Column"
   ]
  },
  {
   "cell_type": "code",
   "execution_count": 413,
   "metadata": {},
   "outputs": [],
   "source": [
    "df_new.drop(columns=[\"STDNT_MINOR\"],inplace=True)"
   ]
  },
  {
   "cell_type": "markdown",
   "metadata": {},
   "source": [
    "# Dropping Student Entrance 1 , 2 Columns"
   ]
  },
  {
   "cell_type": "code",
   "execution_count": 414,
   "metadata": {},
   "outputs": [],
   "source": [
    "df_new.drop(columns=[\"STDNT_TEST_ENTRANCE1\",\"STDNT_TEST_ENTRANCE2\"],inplace=True)"
   ]
  },
  {
   "cell_type": "markdown",
   "metadata": {},
   "source": [
    "# Binning the data in student major column"
   ]
  },
  {
   "cell_type": "code",
   "execution_count": 425,
   "metadata": {},
   "outputs": [],
   "source": [
    "df_new[\"STDNT_MAJOR\"]=df_new[\"STDNT_MAJOR\"].apply(lambda x : 3 if x in _3 else 2 if x in _2 else 1 )"
   ]
  },
  {
   "cell_type": "markdown",
   "metadata": {},
   "source": [
    "# Dropping the 1st term and 2nd term column"
   ]
  },
  {
   "cell_type": "code",
   "execution_count": 426,
   "metadata": {},
   "outputs": [],
   "source": [
    "df_new.drop(columns=[\"FIRST_TERM\",\"SECOND_TERM\"],inplace=True)"
   ]
  },
  {
   "cell_type": "code",
   "execution_count": 427,
   "metadata": {},
   "outputs": [],
   "source": [
    "df_new.drop(columns=[\"CORE_COURSE_NAME_6_F\",\"CORE_COURSE_NAME_5_F\",\"CORE_COURSE_NAME_6_S\",\n",
    "                    \"CORE_COURSE_NAME_5_S\",\"CORE_COURSE_NAME_4_S\"],inplace=True)"
   ]
  },
  {
   "cell_type": "code",
   "execution_count": 428,
   "metadata": {},
   "outputs": [],
   "source": [
    "df_new.drop(columns=[\"CORE_COURSE_GRADE_4_S\"],inplace=True)"
   ]
  },
  {
   "cell_type": "markdown",
   "metadata": {},
   "source": [
    "# Checking if is there any particalar course for which students are dropping out"
   ]
  },
  {
   "cell_type": "code",
   "execution_count": 430,
   "metadata": {},
   "outputs": [
    {
     "data": {
      "text/plain": [
       "1    2677\n",
       "0     723\n",
       "Name: RETURNED_2ND_YR, dtype: int64"
      ]
     },
     "execution_count": 430,
     "metadata": {},
     "output_type": "execute_result"
    }
   ],
   "source": [
    "df_new[\"RETURNED_2ND_YR\"].value_counts()"
   ]
  },
  {
   "cell_type": "code",
   "execution_count": 431,
   "metadata": {
    "scrolled": true
   },
   "outputs": [
    {
     "data": {
      "text/plain": [
       "ENGL 1101    568\n",
       "HIST 2111    176\n",
       "MATH 1111    162\n",
       "COMM 1110    158\n",
       "POLS 1101    140\n",
       "            ... \n",
       "ENGL 2111      1\n",
       "ENGL 2136      1\n",
       "PHYS 2211      1\n",
       "MATH 2115      1\n",
       "ANTH 1107      1\n",
       "Name: CORE_COURSE_NAME_3_F, Length: 74, dtype: int64"
      ]
     },
     "execution_count": 431,
     "metadata": {},
     "output_type": "execute_result"
    }
   ],
   "source": [
    "df_new[\"CORE_COURSE_NAME_3_F\"].value_counts()"
   ]
  },
  {
   "cell_type": "markdown",
   "metadata": {},
   "source": [
    "# There seems to be no such conclusion as the dropping percent for each course is nearly same as for the total dataset"
   ]
  },
  {
   "cell_type": "code",
   "execution_count": 432,
   "metadata": {},
   "outputs": [],
   "source": [
    "df_new.drop(columns=[\"CORE_COURSE_NAME_1_F\",\"CORE_COURSE_NAME_2_F\",\"CORE_COURSE_NAME_3_F\",\n",
    "            \"CORE_COURSE_NAME_4_F\",\"CORE_COURSE_NAME_1_S\",\"CORE_COURSE_NAME_2_S\",\n",
    "            \"CORE_COURSE_NAME_3_S\"],inplace=True)"
   ]
  },
  {
   "cell_type": "code",
   "execution_count": 433,
   "metadata": {},
   "outputs": [],
   "source": [
    "df_new.drop(columns=[\"STUDENT IDENTIFIER\"],inplace=True)"
   ]
  },
  {
   "cell_type": "code",
   "execution_count": 434,
   "metadata": {},
   "outputs": [],
   "source": [
    "X=df_new.drop(columns=[\"RETURNED_2ND_YR\"])"
   ]
  },
  {
   "cell_type": "code",
   "execution_count": 435,
   "metadata": {},
   "outputs": [],
   "source": [
    "y=df_new[\"RETURNED_2ND_YR\"]"
   ]
  },
  {
   "cell_type": "markdown",
   "metadata": {},
   "source": [
    "# EDA After Oversampling- Generating Systhetic Data"
   ]
  },
  {
   "cell_type": "code",
   "execution_count": 616,
   "metadata": {},
   "outputs": [],
   "source": [
    "from sklearn.model_selection import train_test_split"
   ]
  },
  {
   "cell_type": "code",
   "execution_count": 436,
   "metadata": {},
   "outputs": [],
   "source": [
    "columns=[\"CORE_COURSE_GRADE_2_F\",\"CORE_COURSE_GRADE_3_F\",\n",
    "        \"CORE_COURSE_GRADE_4_F\",\"CORE_COURSE_GRADE_1_S\",\"CORE_COURSE_GRADE_2_S\",\n",
    "        \"CORE_COURSE_GRADE_3_S\"]"
   ]
  },
  {
   "cell_type": "code",
   "execution_count": 437,
   "metadata": {},
   "outputs": [],
   "source": [
    "for i in columns:\n",
    "    X[i]=X[i].replace(np.nan,df[i].mean())"
   ]
  },
  {
   "cell_type": "code",
   "execution_count": 834,
   "metadata": {},
   "outputs": [],
   "source": [
    "sm=SMOTE(k_neighbors=5)"
   ]
  },
  {
   "cell_type": "code",
   "execution_count": 844,
   "metadata": {},
   "outputs": [],
   "source": [
    "x_train,x_test,y_train,y_test=train_test_split(X,y,test_size=0.08)"
   ]
  },
  {
   "cell_type": "code",
   "execution_count": 845,
   "metadata": {},
   "outputs": [],
   "source": [
    "X_train,X_test,Y_train,Y_test=train_test_split(x_train,y_train,test_size=0.15)"
   ]
  },
  {
   "cell_type": "code",
   "execution_count": 846,
   "metadata": {},
   "outputs": [],
   "source": [
    "X_train,Y_train=sm.fit_resample(X_train,Y_train)"
   ]
  },
  {
   "cell_type": "code",
   "execution_count": 850,
   "metadata": {},
   "outputs": [],
   "source": [
    "c=pd.concat([X_train,Y_train],axis=1)"
   ]
  },
  {
   "cell_type": "code",
   "execution_count": 851,
   "metadata": {},
   "outputs": [],
   "source": [
    "c_dropped=c[c[\"RETURNED_2ND_YR\"]==0]"
   ]
  },
  {
   "cell_type": "code",
   "execution_count": 852,
   "metadata": {},
   "outputs": [],
   "source": [
    "c_continued=c[c[\"RETURNED_2ND_YR\"]==1]"
   ]
  },
  {
   "cell_type": "markdown",
   "metadata": {},
   "source": [
    "# Distributions"
   ]
  },
  {
   "cell_type": "code",
   "execution_count": 853,
   "metadata": {
    "scrolled": true
   },
   "outputs": [
    {
     "data": {
      "text/plain": [
       "<matplotlib.axes._subplots.AxesSubplot at 0x7fae4e264d50>"
      ]
     },
     "execution_count": 853,
     "metadata": {},
     "output_type": "execute_result"
    },
    {
     "data": {
      "image/png": "[encoded data removed]",
      "text/plain": [
       "<Figure size 432x288 with 1 Axes>"
      ]
     },
     "metadata": {
      "needs_background": "light"
     },
     "output_type": "display_data"
    }
   ],
   "source": [
    "sns.distplot(c_dropped_s[\"COST_OF_ATTEND\"])"
   ]
  },
  {
   "cell_type": "code",
   "execution_count": 854,
   "metadata": {},
   "outputs": [
    {
     "data": {
      "text/html": [
       "<div>\n",
       "<style scoped>\n",
       "    .dataframe tbody tr th:only-of-type {\n",
       "        vertical-align: middle;\n",
       "    }\n",
       "\n",
       "    .dataframe tbody tr th {\n",
       "        vertical-align: top;\n",
       "    }\n",
       "\n",
       "    .dataframe thead th {\n",
       "        text-align: right;\n",
       "    }\n",
       "</style>\n",
       "<table border=\"1\" class=\"dataframe\">\n",
       "  <thead>\n",
       "    <tr style=\"text-align: right;\">\n",
       "      <th></th>\n",
       "      <th>STDNT_AGE</th>\n",
       "      <th>STDNT_GENDER</th>\n",
       "      <th>IN_STATE_FLAG</th>\n",
       "      <th>INTERNATIONAL_STS</th>\n",
       "      <th>STDNT_MAJOR</th>\n",
       "      <th>STDNT_TEST_ENTRANCE_COMB</th>\n",
       "      <th>CORE_COURSE_GRADE_1_F</th>\n",
       "      <th>CORE_COURSE_GRADE_2_F</th>\n",
       "      <th>CORE_COURSE_GRADE_3_F</th>\n",
       "      <th>CORE_COURSE_GRADE_4_F</th>\n",
       "      <th>...</th>\n",
       "      <th>FIRST_TERM_ATTEMPT_HRS</th>\n",
       "      <th>FIRST_TERM_EARNED_HRS</th>\n",
       "      <th>SECOND_TERM_ATTEMPT_HRS</th>\n",
       "      <th>SECOND_TERM_EARNED_HRS</th>\n",
       "      <th>GROSS_FIN_NEED</th>\n",
       "      <th>COST_OF_ATTEND</th>\n",
       "      <th>EST_FAM_CONTRIBUTION</th>\n",
       "      <th>UNMET_NEED</th>\n",
       "      <th>Background</th>\n",
       "      <th>RETURNED_2ND_YR</th>\n",
       "    </tr>\n",
       "  </thead>\n",
       "  <tbody>\n",
       "    <tr>\n",
       "      <th>0</th>\n",
       "      <td>18</td>\n",
       "      <td>1</td>\n",
       "      <td>1</td>\n",
       "      <td>0</td>\n",
       "      <td>1</td>\n",
       "      <td>1070.000000</td>\n",
       "      <td>3</td>\n",
       "      <td>3.000000</td>\n",
       "      <td>5.000000</td>\n",
       "      <td>4.491958</td>\n",
       "      <td>...</td>\n",
       "      <td>12</td>\n",
       "      <td>12</td>\n",
       "      <td>12.000000</td>\n",
       "      <td>12.000000</td>\n",
       "      <td>619440</td>\n",
       "      <td>1201500</td>\n",
       "      <td>582060</td>\n",
       "      <td>208200.000000</td>\n",
       "      <td>-0.476868</td>\n",
       "      <td>1</td>\n",
       "    </tr>\n",
       "    <tr>\n",
       "      <th>1</th>\n",
       "      <td>18</td>\n",
       "      <td>0</td>\n",
       "      <td>1</td>\n",
       "      <td>0</td>\n",
       "      <td>1</td>\n",
       "      <td>997.758501</td>\n",
       "      <td>3</td>\n",
       "      <td>4.000000</td>\n",
       "      <td>4.000000</td>\n",
       "      <td>5.000000</td>\n",
       "      <td>...</td>\n",
       "      <td>17</td>\n",
       "      <td>17</td>\n",
       "      <td>16.000000</td>\n",
       "      <td>16.000000</td>\n",
       "      <td>0</td>\n",
       "      <td>0</td>\n",
       "      <td>0</td>\n",
       "      <td>0.000000</td>\n",
       "      <td>-0.476868</td>\n",
       "      <td>1</td>\n",
       "    </tr>\n",
       "    <tr>\n",
       "      <th>2</th>\n",
       "      <td>18</td>\n",
       "      <td>0</td>\n",
       "      <td>1</td>\n",
       "      <td>0</td>\n",
       "      <td>2</td>\n",
       "      <td>950.000000</td>\n",
       "      <td>4</td>\n",
       "      <td>4.000000</td>\n",
       "      <td>4.000000</td>\n",
       "      <td>4.491958</td>\n",
       "      <td>...</td>\n",
       "      <td>12</td>\n",
       "      <td>12</td>\n",
       "      <td>14.285848</td>\n",
       "      <td>12.511125</td>\n",
       "      <td>0</td>\n",
       "      <td>1245480</td>\n",
       "      <td>2925960</td>\n",
       "      <td>-217920.000000</td>\n",
       "      <td>0.292514</td>\n",
       "      <td>0</td>\n",
       "    </tr>\n",
       "    <tr>\n",
       "      <th>3</th>\n",
       "      <td>18</td>\n",
       "      <td>1</td>\n",
       "      <td>1</td>\n",
       "      <td>0</td>\n",
       "      <td>2</td>\n",
       "      <td>870.000000</td>\n",
       "      <td>4</td>\n",
       "      <td>4.000000</td>\n",
       "      <td>5.000000</td>\n",
       "      <td>4.491958</td>\n",
       "      <td>...</td>\n",
       "      <td>16</td>\n",
       "      <td>13</td>\n",
       "      <td>12.000000</td>\n",
       "      <td>12.000000</td>\n",
       "      <td>852060</td>\n",
       "      <td>1176420</td>\n",
       "      <td>324360</td>\n",
       "      <td>395400.000000</td>\n",
       "      <td>0.933590</td>\n",
       "      <td>1</td>\n",
       "    </tr>\n",
       "    <tr>\n",
       "      <th>4</th>\n",
       "      <td>18</td>\n",
       "      <td>1</td>\n",
       "      <td>1</td>\n",
       "      <td>0</td>\n",
       "      <td>1</td>\n",
       "      <td>910.000000</td>\n",
       "      <td>3</td>\n",
       "      <td>3.000000</td>\n",
       "      <td>4.000000</td>\n",
       "      <td>4.000000</td>\n",
       "      <td>...</td>\n",
       "      <td>13</td>\n",
       "      <td>13</td>\n",
       "      <td>13.000000</td>\n",
       "      <td>9.000000</td>\n",
       "      <td>0</td>\n",
       "      <td>0</td>\n",
       "      <td>0</td>\n",
       "      <td>0.000000</td>\n",
       "      <td>0.933590</td>\n",
       "      <td>1</td>\n",
       "    </tr>\n",
       "    <tr>\n",
       "      <th>...</th>\n",
       "      <td>...</td>\n",
       "      <td>...</td>\n",
       "      <td>...</td>\n",
       "      <td>...</td>\n",
       "      <td>...</td>\n",
       "      <td>...</td>\n",
       "      <td>...</td>\n",
       "      <td>...</td>\n",
       "      <td>...</td>\n",
       "      <td>...</td>\n",
       "      <td>...</td>\n",
       "      <td>...</td>\n",
       "      <td>...</td>\n",
       "      <td>...</td>\n",
       "      <td>...</td>\n",
       "      <td>...</td>\n",
       "      <td>...</td>\n",
       "      <td>...</td>\n",
       "      <td>...</td>\n",
       "      <td>...</td>\n",
       "      <td>...</td>\n",
       "    </tr>\n",
       "    <tr>\n",
       "      <th>4185</th>\n",
       "      <td>18</td>\n",
       "      <td>1</td>\n",
       "      <td>1</td>\n",
       "      <td>0</td>\n",
       "      <td>1</td>\n",
       "      <td>1070.000000</td>\n",
       "      <td>3</td>\n",
       "      <td>4.000000</td>\n",
       "      <td>4.000000</td>\n",
       "      <td>4.403233</td>\n",
       "      <td>...</td>\n",
       "      <td>14</td>\n",
       "      <td>12</td>\n",
       "      <td>17.806465</td>\n",
       "      <td>17.806465</td>\n",
       "      <td>0</td>\n",
       "      <td>0</td>\n",
       "      <td>0</td>\n",
       "      <td>0.000000</td>\n",
       "      <td>-0.476868</td>\n",
       "      <td>0</td>\n",
       "    </tr>\n",
       "    <tr>\n",
       "      <th>4186</th>\n",
       "      <td>18</td>\n",
       "      <td>0</td>\n",
       "      <td>1</td>\n",
       "      <td>0</td>\n",
       "      <td>2</td>\n",
       "      <td>1380.000000</td>\n",
       "      <td>4</td>\n",
       "      <td>4.758898</td>\n",
       "      <td>4.056523</td>\n",
       "      <td>4.372053</td>\n",
       "      <td>...</td>\n",
       "      <td>15</td>\n",
       "      <td>15</td>\n",
       "      <td>14.839265</td>\n",
       "      <td>14.839265</td>\n",
       "      <td>0</td>\n",
       "      <td>0</td>\n",
       "      <td>0</td>\n",
       "      <td>0.000000</td>\n",
       "      <td>0.228071</td>\n",
       "      <td>0</td>\n",
       "    </tr>\n",
       "    <tr>\n",
       "      <th>4187</th>\n",
       "      <td>18</td>\n",
       "      <td>1</td>\n",
       "      <td>1</td>\n",
       "      <td>0</td>\n",
       "      <td>1</td>\n",
       "      <td>904.980709</td>\n",
       "      <td>2</td>\n",
       "      <td>2.125482</td>\n",
       "      <td>3.125482</td>\n",
       "      <td>4.430226</td>\n",
       "      <td>...</td>\n",
       "      <td>14</td>\n",
       "      <td>11</td>\n",
       "      <td>13.749035</td>\n",
       "      <td>13.749035</td>\n",
       "      <td>1147075</td>\n",
       "      <td>1147075</td>\n",
       "      <td>0</td>\n",
       "      <td>469876.646608</td>\n",
       "      <td>-0.380324</td>\n",
       "      <td>0</td>\n",
       "    </tr>\n",
       "    <tr>\n",
       "      <th>4188</th>\n",
       "      <td>18</td>\n",
       "      <td>0</td>\n",
       "      <td>0</td>\n",
       "      <td>0</td>\n",
       "      <td>2</td>\n",
       "      <td>950.000000</td>\n",
       "      <td>4</td>\n",
       "      <td>4.000000</td>\n",
       "      <td>4.196659</td>\n",
       "      <td>5.000000</td>\n",
       "      <td>...</td>\n",
       "      <td>15</td>\n",
       "      <td>15</td>\n",
       "      <td>15.196659</td>\n",
       "      <td>15.196659</td>\n",
       "      <td>0</td>\n",
       "      <td>0</td>\n",
       "      <td>0</td>\n",
       "      <td>0.000000</td>\n",
       "      <td>-0.476868</td>\n",
       "      <td>0</td>\n",
       "    </tr>\n",
       "    <tr>\n",
       "      <th>4189</th>\n",
       "      <td>17</td>\n",
       "      <td>0</td>\n",
       "      <td>1</td>\n",
       "      <td>0</td>\n",
       "      <td>2</td>\n",
       "      <td>1060.179739</td>\n",
       "      <td>0</td>\n",
       "      <td>3.918164</td>\n",
       "      <td>4.012182</td>\n",
       "      <td>4.958424</td>\n",
       "      <td>...</td>\n",
       "      <td>14</td>\n",
       "      <td>14</td>\n",
       "      <td>15.918164</td>\n",
       "      <td>15.590822</td>\n",
       "      <td>260561</td>\n",
       "      <td>906285</td>\n",
       "      <td>645724</td>\n",
       "      <td>171476.013615</td>\n",
       "      <td>-0.476868</td>\n",
       "      <td>0</td>\n",
       "    </tr>\n",
       "  </tbody>\n",
       "</table>\n",
       "<p>4190 rows × 28 columns</p>\n",
       "</div>"
      ],
      "text/plain": [
       "      STDNT_AGE  STDNT_GENDER  IN_STATE_FLAG  INTERNATIONAL_STS  STDNT_MAJOR  \\\n",
       "0            18             1              1                  0            1   \n",
       "1            18             0              1                  0            1   \n",
       "2            18             0              1                  0            2   \n",
       "3            18             1              1                  0            2   \n",
       "4            18             1              1                  0            1   \n",
       "...         ...           ...            ...                ...          ...   \n",
       "4185         18             1              1                  0            1   \n",
       "4186         18             0              1                  0            2   \n",
       "4187         18             1              1                  0            1   \n",
       "4188         18             0              0                  0            2   \n",
       "4189         17             0              1                  0            2   \n",
       "\n",
       "      STDNT_TEST_ENTRANCE_COMB  CORE_COURSE_GRADE_1_F  CORE_COURSE_GRADE_2_F  \\\n",
       "0                  1070.000000                      3               3.000000   \n",
       "1                   997.758501                      3               4.000000   \n",
       "2                   950.000000                      4               4.000000   \n",
       "3                   870.000000                      4               4.000000   \n",
       "4                   910.000000                      3               3.000000   \n",
       "...                        ...                    ...                    ...   \n",
       "4185               1070.000000                      3               4.000000   \n",
       "4186               1380.000000                      4               4.758898   \n",
       "4187                904.980709                      2               2.125482   \n",
       "4188                950.000000                      4               4.000000   \n",
       "4189               1060.179739                      0               3.918164   \n",
       "\n",
       "      CORE_COURSE_GRADE_3_F  CORE_COURSE_GRADE_4_F  ...  \\\n",
       "0                  5.000000               4.491958  ...   \n",
       "1                  4.000000               5.000000  ...   \n",
       "2                  4.000000               4.491958  ...   \n",
       "3                  5.000000               4.491958  ...   \n",
       "4                  4.000000               4.000000  ...   \n",
       "...                     ...                    ...  ...   \n",
       "4185               4.000000               4.403233  ...   \n",
       "4186               4.056523               4.372053  ...   \n",
       "4187               3.125482               4.430226  ...   \n",
       "4188               4.196659               5.000000  ...   \n",
       "4189               4.012182               4.958424  ...   \n",
       "\n",
       "      FIRST_TERM_ATTEMPT_HRS  FIRST_TERM_EARNED_HRS  SECOND_TERM_ATTEMPT_HRS  \\\n",
       "0                         12                     12                12.000000   \n",
       "1                         17                     17                16.000000   \n",
       "2                         12                     12                14.285848   \n",
       "3                         16                     13                12.000000   \n",
       "4                         13                     13                13.000000   \n",
       "...                      ...                    ...                      ...   \n",
       "4185                      14                     12                17.806465   \n",
       "4186                      15                     15                14.839265   \n",
       "4187                      14                     11                13.749035   \n",
       "4188                      15                     15                15.196659   \n",
       "4189                      14                     14                15.918164   \n",
       "\n",
       "      SECOND_TERM_EARNED_HRS  GROSS_FIN_NEED  COST_OF_ATTEND  \\\n",
       "0                  12.000000          619440         1201500   \n",
       "1                  16.000000               0               0   \n",
       "2                  12.511125               0         1245480   \n",
       "3                  12.000000          852060         1176420   \n",
       "4                   9.000000               0               0   \n",
       "...                      ...             ...             ...   \n",
       "4185               17.806465               0               0   \n",
       "4186               14.839265               0               0   \n",
       "4187               13.749035         1147075         1147075   \n",
       "4188               15.196659               0               0   \n",
       "4189               15.590822          260561          906285   \n",
       "\n",
       "      EST_FAM_CONTRIBUTION     UNMET_NEED  Background  RETURNED_2ND_YR  \n",
       "0                   582060  208200.000000   -0.476868                1  \n",
       "1                        0       0.000000   -0.476868                1  \n",
       "2                  2925960 -217920.000000    0.292514                0  \n",
       "3                   324360  395400.000000    0.933590                1  \n",
       "4                        0       0.000000    0.933590                1  \n",
       "...                    ...            ...         ...              ...  \n",
       "4185                     0       0.000000   -0.476868                0  \n",
       "4186                     0       0.000000    0.228071                0  \n",
       "4187                     0  469876.646608   -0.380324                0  \n",
       "4188                     0       0.000000   -0.476868                0  \n",
       "4189                645724  171476.013615   -0.476868                0  \n",
       "\n",
       "[4190 rows x 28 columns]"
      ]
     },
     "execution_count": 854,
     "metadata": {},
     "output_type": "execute_result"
    }
   ],
   "source": [
    "c"
   ]
  },
  {
   "cell_type": "code",
   "execution_count": 855,
   "metadata": {
    "scrolled": true
   },
   "outputs": [
    {
     "data": {
      "text/plain": [
       "<matplotlib.axes._subplots.AxesSubplot at 0x7fae4d2a2ed0>"
      ]
     },
     "execution_count": 855,
     "metadata": {},
     "output_type": "execute_result"
    },
    {
     "data": {
      "image/png": "[encoded data removed]",
      "text/plain": [
       "<Figure size 432x288 with 1 Axes>"
      ]
     },
     "metadata": {
      "needs_background": "light"
     },
     "output_type": "display_data"
    }
   ],
   "source": [
    "sns.distplot(c_continued_s[\"COST_OF_ATTEND\"])"
   ]
  },
  {
   "cell_type": "code",
   "execution_count": 856,
   "metadata": {
    "scrolled": false
   },
   "outputs": [
    {
     "data": {
      "text/plain": [
       "<matplotlib.axes._subplots.AxesSubplot at 0x7fae4e6bfd10>"
      ]
     },
     "execution_count": 856,
     "metadata": {},
     "output_type": "execute_result"
    },
    {
     "data": {
      "image/png": "[encoded data removed]",
      "text/plain": [
       "<Figure size 432x288 with 1 Axes>"
      ]
     },
     "metadata": {
      "needs_background": "light"
     },
     "output_type": "display_data"
    }
   ],
   "source": [
    "sns.distplot(c_dropped[\"COST_OF_ATTEND\"])"
   ]
  },
  {
   "cell_type": "code",
   "execution_count": 857,
   "metadata": {
    "scrolled": true
   },
   "outputs": [
    {
     "data": {
      "text/plain": [
       "3.000000    736\n",
       "4.000000    734\n",
       "2.000000    436\n",
       "1.000000    414\n",
       "3.016098    309\n",
       "           ... \n",
       "3.159082      1\n",
       "2.671481      1\n",
       "1.789046      1\n",
       "3.608942      1\n",
       "3.191289      1\n",
       "Name: CORE_COURSE_GRADE_1_S, Length: 1199, dtype: int64"
      ]
     },
     "execution_count": 857,
     "metadata": {},
     "output_type": "execute_result"
    }
   ],
   "source": [
    "c[\"CORE_COURSE_GRADE_1_S\"].value_counts()"
   ]
  },
  {
   "cell_type": "markdown",
   "metadata": {},
   "source": [
    "# The distribution is not a normal distribution"
   ]
  },
  {
   "cell_type": "markdown",
   "metadata": {},
   "source": [
    "# Anova Test"
   ]
  },
  {
   "cell_type": "code",
   "execution_count": 866,
   "metadata": {},
   "outputs": [],
   "source": [
    "columns=['STDNT_AGE',\n",
    " 'STDNT_GENDER',\n",
    " 'IN_STATE_FLAG',\n",
    " 'INTERNATIONAL_STS',\n",
    " 'STDNT_MAJOR',\n",
    " 'STDNT_TEST_ENTRANCE_COMB',\n",
    " 'CORE_COURSE_GRADE_1_F',\n",
    " 'CORE_COURSE_GRADE_2_F',\n",
    " 'CORE_COURSE_GRADE_3_F',\n",
    " 'CORE_COURSE_GRADE_4_F',\n",
    " 'CORE_COURSE_GRADE_1_S',\n",
    " 'CORE_COURSE_GRADE_2_S',\n",
    " 'CORE_COURSE_GRADE_3_S',\n",
    " 'HOUSING_STS',\n",
    " 'DISTANCE_FROM_HOME',\n",
    " 'HIGH_SCHL_GPA',\n",
    " 'FATHER_HI_EDU_CD',\n",
    " 'MOTHER_HI_EDU_CD',\n",
    " 'FIRST_TERM_ATTEMPT_HRS',\n",
    " 'FIRST_TERM_EARNED_HRS',\n",
    " 'SECOND_TERM_ATTEMPT_HRS',\n",
    " 'SECOND_TERM_EARNED_HRS',\n",
    " 'GROSS_FIN_NEED',\n",
    " 'COST_OF_ATTEND',\n",
    " 'EST_FAM_CONTRIBUTION',\n",
    " 'UNMET_NEED',\n",
    " 'Background']"
   ]
  },
  {
   "cell_type": "markdown",
   "metadata": {},
   "source": [
    "# Checking for Categorial and Continuous Variables"
   ]
  },
  {
   "cell_type": "code",
   "execution_count": 867,
   "metadata": {},
   "outputs": [
    {
     "name": "stdout",
     "output_type": "stream",
     "text": [
      "1    2349\n",
      "0    1841\n",
      "Name: STDNT_GENDER, dtype: int64\n",
      "1    3554\n",
      "0     636\n",
      "Name: IN_STATE_FLAG, dtype: int64\n",
      "0    4162\n",
      "1      28\n",
      "Name: INTERNATIONAL_STS, dtype: int64\n",
      "2    2832\n",
      "1    1251\n",
      "3     107\n",
      "Name: STDNT_MAJOR, dtype: int64\n",
      "3    1205\n",
      "2     896\n",
      "4     881\n",
      "1     735\n",
      "5     296\n",
      "0     177\n",
      "Name: CORE_COURSE_GRADE_1_F, dtype: int64\n",
      "0    2659\n",
      "1    1531\n",
      "Name: HOUSING_STS, dtype: int64\n"
     ]
    }
   ],
   "source": [
    "Categorial_variables=[]\n",
    "for i in columns:\n",
    "    if len(c[i].value_counts())<10:\n",
    "        Categorial_variables.append(i)\n",
    "        print(c[i].value_counts())"
   ]
  },
  {
   "cell_type": "code",
   "execution_count": 868,
   "metadata": {
    "scrolled": true
   },
   "outputs": [
    {
     "data": {
      "text/plain": [
       "['STDNT_GENDER',\n",
       " 'IN_STATE_FLAG',\n",
       " 'INTERNATIONAL_STS',\n",
       " 'STDNT_MAJOR',\n",
       " 'CORE_COURSE_GRADE_1_F',\n",
       " 'HOUSING_STS']"
      ]
     },
     "execution_count": 868,
     "metadata": {},
     "output_type": "execute_result"
    }
   ],
   "source": [
    "Categorial_variables"
   ]
  },
  {
   "cell_type": "code",
   "execution_count": 869,
   "metadata": {
    "scrolled": true
   },
   "outputs": [
    {
     "name": "stdout",
     "output_type": "stream",
     "text": [
      "18    3460\n",
      "17     506\n",
      "19     172\n",
      "16      21\n",
      "20      14\n",
      "22       5\n",
      "21       5\n",
      "25       3\n",
      "23       2\n",
      "26       1\n",
      "24       1\n",
      "Name: STDNT_AGE, dtype: int64\n",
      "997.758501     534\n",
      "950.000000     392\n",
      "910.000000     310\n",
      "990.000000     305\n",
      "870.000000     263\n",
      "              ... \n",
      "870.821370       1\n",
      "1245.426535      1\n",
      "1089.576633      1\n",
      "1019.549854      1\n",
      "1298.523085      1\n",
      "Name: STDNT_TEST_ENTRANCE_COMB, Length: 936, dtype: int64\n",
      "4.000000    1228\n",
      "3.000000     761\n",
      "5.000000     635\n",
      "2.000000     261\n",
      "1.000000     130\n",
      "            ... \n",
      "2.180834       1\n",
      "2.791832       1\n",
      "4.659964       1\n",
      "3.146443       1\n",
      "2.993402       1\n",
      "Name: CORE_COURSE_GRADE_2_F, Length: 1099, dtype: int64\n",
      "4.000000    1083\n",
      "5.000000    1008\n",
      "4.148854     462\n",
      "3.000000     382\n",
      "2.000000      88\n",
      "            ... \n",
      "4.097181       1\n",
      "4.299823       1\n",
      "4.078417       1\n",
      "2.791832       1\n",
      "4.310443       1\n",
      "Name: CORE_COURSE_GRADE_3_F, Length: 1145, dtype: int64\n",
      "4.491958    1600\n",
      "5.000000     983\n",
      "4.000000     469\n",
      "3.000000     120\n",
      "2.000000      23\n",
      "            ... \n",
      "4.187287       1\n",
      "4.628448       1\n",
      "4.024632       1\n",
      "4.126581       1\n",
      "4.325890       1\n",
      "Name: CORE_COURSE_GRADE_4_F, Length: 997, dtype: int64\n",
      "3.000000    736\n",
      "4.000000    734\n",
      "2.000000    436\n",
      "1.000000    414\n",
      "3.016098    309\n",
      "           ... \n",
      "3.159082      1\n",
      "2.671481      1\n",
      "1.789046      1\n",
      "3.608942      1\n",
      "3.191289      1\n",
      "Name: CORE_COURSE_GRADE_1_S, Length: 1199, dtype: int64\n",
      "4.000000    938\n",
      "5.000000    672\n",
      "3.000000    578\n",
      "3.730159    503\n",
      "2.000000    195\n",
      "           ... \n",
      "3.376482      1\n",
      "4.740892      1\n",
      "3.554883      1\n",
      "2.147445      1\n",
      "2.705951      1\n",
      "Name: CORE_COURSE_GRADE_2_S, Length: 1175, dtype: int64\n",
      "4.153260    1153\n",
      "5.000000     828\n",
      "4.000000     763\n",
      "3.000000     307\n",
      "2.000000      70\n",
      "            ... \n",
      "4.286317       1\n",
      "3.699660       1\n",
      "1.335341       1\n",
      "4.098308       1\n",
      "2.360253       1\n",
      "Name: CORE_COURSE_GRADE_3_S, Length: 1044, dtype: int64\n",
      "69.000000     1416\n",
      "0.000000       673\n",
      "150.000000     536\n",
      "90.000000      228\n",
      "138.000000     204\n",
      "              ... \n",
      "59.846428        1\n",
      "50.851945        1\n",
      "93.573688        1\n",
      "164.264608       1\n",
      "102.139972       1\n",
      "Name: DISTANCE_FROM_HOME, Length: 901, dtype: int64\n",
      "3.000000    119\n",
      "4.000000    107\n",
      "3.500000     71\n",
      "3.130000     61\n",
      "2.930000     54\n",
      "           ... \n",
      "3.138510      1\n",
      "3.050935      1\n",
      "2.890829      1\n",
      "2.971337      1\n",
      "2.857483      1\n",
      "Name: HIGH_SCHL_GPA, Length: 1706, dtype: int64\n",
      "2.000000    1325\n",
      "3.000000    1248\n",
      "2.560647     408\n",
      "4.000000     171\n",
      "1.000000      74\n",
      "            ... \n",
      "2.732984       1\n",
      "2.543106       1\n",
      "2.640436       1\n",
      "2.954395       1\n",
      "2.006598       1\n",
      "Name: FATHER_HI_EDU_CD, Length: 969, dtype: int64\n",
      "3.000000    1481\n",
      "2.000000    1131\n",
      "2.571281     456\n",
      "4.000000      92\n",
      "1.000000      57\n",
      "            ... \n",
      "2.163891       1\n",
      "2.701493       1\n",
      "2.636628       1\n",
      "2.219996       1\n",
      "2.462027       1\n",
      "Name: MOTHER_HI_EDU_CD, Length: 978, dtype: int64\n",
      "13    967\n",
      "12    960\n",
      "15    920\n",
      "14    787\n",
      "16    390\n",
      "17    115\n",
      "18     31\n",
      "19      9\n",
      "11      7\n",
      "9       2\n",
      "21      1\n",
      "20      1\n",
      "Name: FIRST_TERM_ATTEMPT_HRS, dtype: int64\n",
      "12    834\n",
      "13    650\n",
      "15    555\n",
      "14    462\n",
      "9     321\n",
      "10    298\n",
      "11    266\n",
      "16    210\n",
      "8     142\n",
      "6     140\n",
      "7     107\n",
      "17     55\n",
      "3      42\n",
      "4      37\n",
      "18     19\n",
      "2      17\n",
      "5      13\n",
      "0       8\n",
      "19      7\n",
      "1       6\n",
      "21      1\n",
      "Name: FIRST_TERM_EARNED_HRS, dtype: int64\n",
      "15.000000    530\n",
      "12.000000    505\n",
      "13.000000    469\n",
      "16.000000    391\n",
      "14.000000    341\n",
      "            ... \n",
      "17.155116      1\n",
      "17.048322      1\n",
      "15.219167      1\n",
      "13.972958      1\n",
      "12.612892      1\n",
      "Name: SECOND_TERM_ATTEMPT_HRS, Length: 1318, dtype: int64\n",
      "12.000000    454\n",
      "15.000000    370\n",
      "13.000000    347\n",
      "12.511125    276\n",
      "16.000000    256\n",
      "            ... \n",
      "15.057777      1\n",
      "13.286809      1\n",
      "14.171191      1\n",
      "9.230750       1\n",
      "15.533765      1\n",
      "Name: SECOND_TERM_EARNED_HRS, Length: 1365, dtype: int64\n",
      "0          2720\n",
      "1418100      74\n",
      "1324500      13\n",
      "1306020      13\n",
      "1316580      11\n",
      "           ... \n",
      "701520        1\n",
      "1299540       1\n",
      "726104        1\n",
      "773460        1\n",
      "1245030       1\n",
      "Name: GROSS_FIN_NEED, Length: 1263, dtype: int64\n",
      "0          1999\n",
      "1418100     239\n",
      "1176420      89\n",
      "1324500      77\n",
      "1306020      75\n",
      "           ... \n",
      "206110        1\n",
      "1160472       1\n",
      "1101071       1\n",
      "120060        1\n",
      "356352        1\n",
      "Name: COST_OF_ATTEND, Length: 771, dtype: int64\n",
      "0          2553\n",
      "5999940       8\n",
      "2400          2\n",
      "2880          2\n",
      "277500        2\n",
      "           ... \n",
      "398640        1\n",
      "628020        1\n",
      "1623354       1\n",
      "1946940       1\n",
      "126984        1\n",
      "Name: EST_FAM_CONTRIBUTION, Length: 1606, dtype: int64\n",
      " 0.000000         2157\n",
      "-417420.000000      49\n",
      "-347580.000000      47\n",
      "-299160.000000      34\n",
      "-288180.000000      33\n",
      "                  ... \n",
      " 3.435372            1\n",
      " 315096.348975       1\n",
      " 63505.272868        1\n",
      " 435042.665597       1\n",
      "-177929.993671       1\n",
      "Name: UNMET_NEED, Length: 1713, dtype: int64\n",
      "-0.476868    2323\n",
      " 0.933590     889\n",
      " 0.300614     110\n",
      " 0.292514      86\n",
      " 0.289676      67\n",
      "             ... \n",
      " 0.454978       1\n",
      " 0.586946       1\n",
      "-0.262473       1\n",
      "-0.448503       1\n",
      " 0.426135       1\n",
      "Name: Background, Length: 698, dtype: int64\n"
     ]
    }
   ],
   "source": [
    "Continuous_variables=[]\n",
    "for i in columns:\n",
    "    if len(c[i].value_counts())>=10:\n",
    "        Continuous_variables.append(i)\n",
    "        print(c[i].value_counts())"
   ]
  },
  {
   "cell_type": "code",
   "execution_count": 870,
   "metadata": {
    "scrolled": true
   },
   "outputs": [
    {
     "data": {
      "text/plain": [
       "['STDNT_AGE',\n",
       " 'STDNT_TEST_ENTRANCE_COMB',\n",
       " 'CORE_COURSE_GRADE_2_F',\n",
       " 'CORE_COURSE_GRADE_3_F',\n",
       " 'CORE_COURSE_GRADE_4_F',\n",
       " 'CORE_COURSE_GRADE_1_S',\n",
       " 'CORE_COURSE_GRADE_2_S',\n",
       " 'CORE_COURSE_GRADE_3_S',\n",
       " 'DISTANCE_FROM_HOME',\n",
       " 'HIGH_SCHL_GPA',\n",
       " 'FATHER_HI_EDU_CD',\n",
       " 'MOTHER_HI_EDU_CD',\n",
       " 'FIRST_TERM_ATTEMPT_HRS',\n",
       " 'FIRST_TERM_EARNED_HRS',\n",
       " 'SECOND_TERM_ATTEMPT_HRS',\n",
       " 'SECOND_TERM_EARNED_HRS',\n",
       " 'GROSS_FIN_NEED',\n",
       " 'COST_OF_ATTEND',\n",
       " 'EST_FAM_CONTRIBUTION',\n",
       " 'UNMET_NEED',\n",
       " 'Background']"
      ]
     },
     "execution_count": 870,
     "metadata": {},
     "output_type": "execute_result"
    }
   ],
   "source": [
    "Continuous_variables"
   ]
  },
  {
   "cell_type": "markdown",
   "metadata": {},
   "source": [
    "# Anova Test"
   ]
  },
  {
   "cell_type": "code",
   "execution_count": 899,
   "metadata": {},
   "outputs": [
    {
     "name": "stdout",
     "output_type": "stream",
     "text": [
      "STDNT_AGE  stat- 3.708750371618274 p_value- 0.054411731298648715\n",
      "CORE_COURSE_GRADE_2_F  stat- 54.26680953334031 p_value- 3.662197040512304e-13\n",
      "CORE_COURSE_GRADE_3_F  stat- 23.01029725322725 p_value- 1.8569223320494192e-06\n",
      "CORE_COURSE_GRADE_4_F  stat- 16.294532247742197 p_value- 5.836873345565809e-05\n",
      "CORE_COURSE_GRADE_1_S  stat- 30.71830140929578 p_value- 3.817711022890872e-08\n",
      "CORE_COURSE_GRADE_2_S  stat- 43.970110881024915 p_value- 5.452885985841457e-11\n",
      "CORE_COURSE_GRADE_3_S  stat- 45.11468589389875 p_value- 3.1159331397862223e-11\n",
      "FATHER_HI_EDU_CD  stat- 8.981966293058392 p_value- 0.002794034173770532\n",
      "FIRST_TERM_ATTEMPT_HRS  stat- 10.19632691792629 p_value- 0.0014512431052372363\n",
      "FIRST_TERM_EARNED_HRS  stat- 8.85838748869716 p_value- 0.002987821700534346\n",
      "SECOND_TERM_ATTEMPT_HRS  stat- 4.096492354961983 p_value- 0.043238299145251874\n",
      "SECOND_TERM_EARNED_HRS  stat- 24.013990711476687 p_value- 1.115479587030028e-06\n",
      "Background  stat- 3.321438479868182 p_value- 0.06868109844373728\n"
     ]
    }
   ],
   "source": [
    "for i in Continuous_variables:\n",
    "    a=c_dropped[i].sample(500)\n",
    "    b=c_continued[i].sample(500)\n",
    "    stat, p = f_oneway(a,b)\n",
    "    if stat>=3:\n",
    "        print(i,\"\",\"stat-\",stat,\"p_value-\",p)"
   ]
  },
  {
   "cell_type": "code",
   "execution_count": 932,
   "metadata": {},
   "outputs": [],
   "source": [
    "from scipy.stats import kruskal"
   ]
  },
  {
   "cell_type": "code",
   "execution_count": 943,
   "metadata": {
    "scrolled": true
   },
   "outputs": [
    {
     "name": "stdout",
     "output_type": "stream",
     "text": [
      "STDNT_GENDER  stat- 5.228243021346407 p_value- 0.02222296982898722\n",
      "IN_STATE_FLAG  stat- 5.576355496600876 p_value- 0.01820456835055626\n",
      "CORE_COURSE_GRADE_1_F  stat- 16.51808055755612 p_value- 4.818836331626057e-05\n"
     ]
    }
   ],
   "source": [
    "for i in Categorial_variables:\n",
    "    a=c_dropped[i].sample(100)\n",
    "    b=c_continued[i].sample(100)\n",
    "    stat, p = kruskal(a,b)\n",
    "    if p<=0.08:\n",
    "        print(i,\"\",\"stat-\",stat,\"p_value-\",p)"
   ]
  },
  {
   "cell_type": "markdown",
   "metadata": {},
   "source": [
    "# Above parametes have different distributions for students who left Vs students who continued"
   ]
  },
  {
   "cell_type": "markdown",
   "metadata": {},
   "source": [
    "# Box Plot"
   ]
  },
  {
   "cell_type": "code",
   "execution_count": 873,
   "metadata": {},
   "outputs": [],
   "source": [
    "from seaborn import boxplot"
   ]
  },
  {
   "cell_type": "code",
   "execution_count": 874,
   "metadata": {
    "scrolled": false
   },
   "outputs": [
    {
     "data": {
      "text/plain": [
       "<matplotlib.axes._subplots.AxesSubplot at 0x7fae4d3e08d0>"
      ]
     },
     "execution_count": 874,
     "metadata": {},
     "output_type": "execute_result"
    },
    {
     "data": {
      "image/png": "[encoded data removed]",
      "text/plain": [
       "<Figure size 432x288 with 1 Axes>"
      ]
     },
     "metadata": {
      "needs_background": "light"
     },
     "output_type": "display_data"
    }
   ],
   "source": [
    "sns.boxplot(c[\"RETURNED_2ND_YR\"],c[c[\"DISTANCE_FROM_HOME\"]<200][\"DISTANCE_FROM_HOME\"])"
   ]
  },
  {
   "cell_type": "code",
   "execution_count": 875,
   "metadata": {
    "scrolled": false
   },
   "outputs": [
    {
     "data": {
      "text/plain": [
       "<matplotlib.axes._subplots.AxesSubplot at 0x7fae4e8d6050>"
      ]
     },
     "execution_count": 875,
     "metadata": {},
     "output_type": "execute_result"
    },
    {
     "data": {
      "image/png": "[encoded data removed]",
      "text/plain": [
       "<Figure size 432x288 with 1 Axes>"
      ]
     },
     "metadata": {
      "needs_background": "light"
     },
     "output_type": "display_data"
    }
   ],
   "source": [
    "sns.boxplot(c[\"RETURNED_2ND_YR\"],c[c[\"HIGH_SCHL_GPA\"]>=2][\"HIGH_SCHL_GPA\"])"
   ]
  },
  {
   "cell_type": "code",
   "execution_count": 876,
   "metadata": {},
   "outputs": [
    {
     "data": {
      "text/plain": [
       "<matplotlib.axes._subplots.AxesSubplot at 0x7fae4d404690>"
      ]
     },
     "execution_count": 876,
     "metadata": {},
     "output_type": "execute_result"
    },
    {
     "data": {
      "image/png": "[encoded data removed]",
      "text/plain": [
       "<Figure size 432x288 with 1 Axes>"
      ]
     },
     "metadata": {
      "needs_background": "light"
     },
     "output_type": "display_data"
    }
   ],
   "source": [
    "sns.boxplot(c[\"RETURNED_2ND_YR\"],c[c[\"FIRST_TERM_EARNED_HRS\"]>=2][\"FIRST_TERM_EARNED_HRS\"])"
   ]
  },
  {
   "cell_type": "code",
   "execution_count": 877,
   "metadata": {
    "scrolled": true
   },
   "outputs": [
    {
     "data": {
      "text/plain": [
       "<matplotlib.axes._subplots.AxesSubplot at 0x7fae4eb2d850>"
      ]
     },
     "execution_count": 877,
     "metadata": {},
     "output_type": "execute_result"
    },
    {
     "data": {
      "image/png": "[encoded data removed]",
      "text/plain": [
       "<Figure size 432x288 with 1 Axes>"
      ]
     },
     "metadata": {
      "needs_background": "light"
     },
     "output_type": "display_data"
    }
   ],
   "source": [
    "sns.boxplot(c[\"RETURNED_2ND_YR\"],c[c[\"SECOND_TERM_ATTEMPT_HRS\"]>=5][\"SECOND_TERM_ATTEMPT_HRS\"])"
   ]
  },
  {
   "cell_type": "code",
   "execution_count": 878,
   "metadata": {
    "scrolled": true
   },
   "outputs": [
    {
     "data": {
      "text/plain": [
       "<matplotlib.axes._subplots.AxesSubplot at 0x7fae4ebeafd0>"
      ]
     },
     "execution_count": 878,
     "metadata": {},
     "output_type": "execute_result"
    },
    {
     "data": {
      "image/png": "[encoded data removed]",
      "text/plain": [
       "<Figure size 432x288 with 1 Axes>"
      ]
     },
     "metadata": {
      "needs_background": "light"
     },
     "output_type": "display_data"
    }
   ],
   "source": [
    "sns.boxplot(c[\"RETURNED_2ND_YR\"],c[c[\"SECOND_TERM_EARNED_HRS\"]>=6][\"SECOND_TERM_EARNED_HRS\"])"
   ]
  },
  {
   "cell_type": "code",
   "execution_count": 880,
   "metadata": {
    "scrolled": true
   },
   "outputs": [
    {
     "data": {
      "text/plain": [
       "<matplotlib.axes._subplots.AxesSubplot at 0x7fae4d19bf90>"
      ]
     },
     "execution_count": 880,
     "metadata": {},
     "output_type": "execute_result"
    },
    {
     "data": {
      "image/png": "[encoded data removed]",
      "text/plain": [
       "<Figure size 432x288 with 1 Axes>"
      ]
     },
     "metadata": {
      "needs_background": "light"
     },
     "output_type": "display_data"
    }
   ],
   "source": [
    "sns.boxplot(c[\"RETURNED_2ND_YR\"],c[\"COST_OF_ATTEND\"])"
   ]
  },
  {
   "cell_type": "code",
   "execution_count": 881,
   "metadata": {
    "scrolled": true
   },
   "outputs": [
    {
     "data": {
      "text/plain": [
       "<matplotlib.axes._subplots.AxesSubplot at 0x7fae4ef06810>"
      ]
     },
     "execution_count": 881,
     "metadata": {},
     "output_type": "execute_result"
    },
    {
     "data": {
      "image/png": "[encoded data removed]",
      "text/plain": [
       "<Figure size 432x288 with 1 Axes>"
      ]
     },
     "metadata": {
      "needs_background": "light"
     },
     "output_type": "display_data"
    }
   ],
   "source": [
    "sns.boxplot(c[\"RETURNED_2ND_YR\"],c[\"GROSS_FIN_NEED\"])"
   ]
  },
  {
   "cell_type": "code",
   "execution_count": 882,
   "metadata": {
    "scrolled": true
   },
   "outputs": [
    {
     "data": {
      "text/plain": [
       "<matplotlib.axes._subplots.AxesSubplot at 0x7fae4f00db90>"
      ]
     },
     "execution_count": 882,
     "metadata": {},
     "output_type": "execute_result"
    },
    {
     "data": {
      "image/png": "[encoded data removed]",
      "text/plain": [
       "<Figure size 432x288 with 1 Axes>"
      ]
     },
     "metadata": {
      "needs_background": "light"
     },
     "output_type": "display_data"
    }
   ],
   "source": [
    "sns.boxplot(c[\"RETURNED_2ND_YR\"],c[c[\"EST_FAM_CONTRIBUTION\"]<=1200000][\"EST_FAM_CONTRIBUTION\"])"
   ]
  },
  {
   "cell_type": "code",
   "execution_count": 884,
   "metadata": {
    "scrolled": true
   },
   "outputs": [
    {
     "data": {
      "text/plain": [
       "<matplotlib.axes._subplots.AxesSubplot at 0x7fae4f0d0950>"
      ]
     },
     "execution_count": 884,
     "metadata": {},
     "output_type": "execute_result"
    },
    {
     "data": {
      "image/png": "[encoded data removed]",
      "text/plain": [
       "<Figure size 432x288 with 1 Axes>"
      ]
     },
     "metadata": {
      "needs_background": "light"
     },
     "output_type": "display_data"
    }
   ],
   "source": [
    "sns.boxplot(c[\"RETURNED_2ND_YR\"],c[\"CORE_COURSE_GRADE_1_F\"])"
   ]
  },
  {
   "cell_type": "code",
   "execution_count": 886,
   "metadata": {
    "scrolled": true
   },
   "outputs": [
    {
     "data": {
      "text/plain": [
       "<matplotlib.axes._subplots.AxesSubplot at 0x7fae4f2f8490>"
      ]
     },
     "execution_count": 886,
     "metadata": {},
     "output_type": "execute_result"
    },
    {
     "data": {
      "image/png": "[encoded data removed]",
      "text/plain": [
       "<Figure size 432x288 with 1 Axes>"
      ]
     },
     "metadata": {
      "needs_background": "light"
     },
     "output_type": "display_data"
    }
   ],
   "source": [
    "sns.boxplot(c[\"RETURNED_2ND_YR\"],c[\"CORE_COURSE_GRADE_2_F\"])"
   ]
  },
  {
   "cell_type": "code",
   "execution_count": 888,
   "metadata": {
    "scrolled": false
   },
   "outputs": [
    {
     "data": {
      "text/plain": [
       "<matplotlib.axes._subplots.AxesSubplot at 0x7fae4f230690>"
      ]
     },
     "execution_count": 888,
     "metadata": {},
     "output_type": "execute_result"
    },
    {
     "data": {
      "image/png": "[encoded data removed]",
      "text/plain": [
       "<Figure size 432x288 with 1 Axes>"
      ]
     },
     "metadata": {
      "needs_background": "light"
     },
     "output_type": "display_data"
    }
   ],
   "source": [
    "sns.boxplot(c[\"RETURNED_2ND_YR\"],c[\"CORE_COURSE_GRADE_3_F\"])"
   ]
  },
  {
   "cell_type": "code",
   "execution_count": 890,
   "metadata": {
    "scrolled": true
   },
   "outputs": [
    {
     "data": {
      "text/plain": [
       "<matplotlib.axes._subplots.AxesSubplot at 0x7fae4f7b47d0>"
      ]
     },
     "execution_count": 890,
     "metadata": {},
     "output_type": "execute_result"
    },
    {
     "data": {
      "image/png": "[encoded data removed]",
      "text/plain": [
       "<Figure size 432x288 with 1 Axes>"
      ]
     },
     "metadata": {
      "needs_background": "light"
     },
     "output_type": "display_data"
    }
   ],
   "source": [
    "sns.boxplot(c[\"RETURNED_2ND_YR\"],c[\"CORE_COURSE_GRADE_4_F\"])"
   ]
  },
  {
   "cell_type": "code",
   "execution_count": 892,
   "metadata": {
    "scrolled": true
   },
   "outputs": [
    {
     "data": {
      "text/plain": [
       "<matplotlib.axes._subplots.AxesSubplot at 0x7fae4f979a10>"
      ]
     },
     "execution_count": 892,
     "metadata": {},
     "output_type": "execute_result"
    },
    {
     "data": {
      "image/png": "[encoded data removed]",
      "text/plain": [
       "<Figure size 432x288 with 1 Axes>"
      ]
     },
     "metadata": {
      "needs_background": "light"
     },
     "output_type": "display_data"
    }
   ],
   "source": [
    "sns.boxplot(c[\"RETURNED_2ND_YR\"],c[\"CORE_COURSE_GRADE_1_S\"])"
   ]
  },
  {
   "cell_type": "code",
   "execution_count": 894,
   "metadata": {
    "scrolled": true
   },
   "outputs": [
    {
     "data": {
      "text/plain": [
       "<matplotlib.axes._subplots.AxesSubplot at 0x7fae4fb4d510>"
      ]
     },
     "execution_count": 894,
     "metadata": {},
     "output_type": "execute_result"
    },
    {
     "data": {
      "image/png": "[encoded data removed]",
      "text/plain": [
       "<Figure size 432x288 with 1 Axes>"
      ]
     },
     "metadata": {
      "needs_background": "light"
     },
     "output_type": "display_data"
    }
   ],
   "source": [
    "sns.boxplot(c[\"RETURNED_2ND_YR\"],c[\"CORE_COURSE_GRADE_2_S\"])"
   ]
  },
  {
   "cell_type": "code",
   "execution_count": 896,
   "metadata": {
    "scrolled": true
   },
   "outputs": [
    {
     "data": {
      "text/plain": [
       "<matplotlib.axes._subplots.AxesSubplot at 0x7fae4fd04b90>"
      ]
     },
     "execution_count": 896,
     "metadata": {},
     "output_type": "execute_result"
    },
    {
     "data": {
      "image/png": "[encoded data removed]",
      "text/plain": [
       "<Figure size 432x288 with 1 Axes>"
      ]
     },
     "metadata": {
      "needs_background": "light"
     },
     "output_type": "display_data"
    }
   ],
   "source": [
    "sns.boxplot(c[\"RETURNED_2ND_YR\"],c[\"CORE_COURSE_GRADE_3_S\"])"
   ]
  },
  {
   "cell_type": "markdown",
   "metadata": {},
   "source": [
    "# Standardizing"
   ]
  },
  {
   "cell_type": "code",
   "execution_count": 909,
   "metadata": {},
   "outputs": [],
   "source": [
    "columns=[\"CORE_COURSE_GRADE_2_F\",\"CORE_COURSE_GRADE_3_F\",\n",
    "        \"CORE_COURSE_GRADE_4_F\",\"CORE_COURSE_GRADE_1_S\",\"CORE_COURSE_GRADE_2_S\",\n",
    "        \"CORE_COURSE_GRADE_3_S\"]"
   ]
  },
  {
   "cell_type": "code",
   "execution_count": 910,
   "metadata": {},
   "outputs": [],
   "source": [
    "for i in columns:\n",
    "    X[i]=X[i].replace(np.nan,df[i].mean())"
   ]
  },
  {
   "cell_type": "code",
   "execution_count": 911,
   "metadata": {},
   "outputs": [],
   "source": [
    "sc=StandardScaler()"
   ]
  },
  {
   "cell_type": "code",
   "execution_count": 912,
   "metadata": {},
   "outputs": [],
   "source": [
    "X[X.columns]=sc.fit_transform(X[X.columns])"
   ]
  },
  {
   "cell_type": "code",
   "execution_count": 913,
   "metadata": {},
   "outputs": [],
   "source": [
    "from sklearn.model_selection import train_test_split"
   ]
  },
  {
   "cell_type": "code",
   "execution_count": 914,
   "metadata": {},
   "outputs": [],
   "source": [
    "x_train,x_test,y_train,y_test=train_test_split(X,y,test_size=0.08,random_state=0)"
   ]
  },
  {
   "cell_type": "code",
   "execution_count": 915,
   "metadata": {},
   "outputs": [],
   "source": [
    "X_train,X_test,Y_train,Y_test=train_test_split(x_train,y_train,test_size=0.15,random_state=0)"
   ]
  },
  {
   "cell_type": "markdown",
   "metadata": {},
   "source": [
    "# Over Sampling"
   ]
  },
  {
   "cell_type": "code",
   "execution_count": 916,
   "metadata": {},
   "outputs": [],
   "source": [
    "from imblearn.over_sampling import SMOTE"
   ]
  },
  {
   "cell_type": "code",
   "execution_count": 917,
   "metadata": {},
   "outputs": [],
   "source": [
    "sm=SMOTE(k_neighbors=6)"
   ]
  },
  {
   "cell_type": "code",
   "execution_count": 918,
   "metadata": {},
   "outputs": [],
   "source": [
    "X_train,Y_train=sm.fit_resample(X_train,Y_train)"
   ]
  },
  {
   "cell_type": "markdown",
   "metadata": {},
   "source": [
    "# K Neighbors"
   ]
  },
  {
   "cell_type": "code",
   "execution_count": 65,
   "metadata": {},
   "outputs": [],
   "source": [
    "from sklearn.neighbors import KNeighborsClassifier"
   ]
  },
  {
   "cell_type": "code",
   "execution_count": 66,
   "metadata": {},
   "outputs": [],
   "source": [
    "kn=KNeighborsClassifier(n_neighbors=5)"
   ]
  },
  {
   "cell_type": "code",
   "execution_count": 67,
   "metadata": {},
   "outputs": [
    {
     "data": {
      "text/plain": [
       "KNeighborsClassifier()"
      ]
     },
     "execution_count": 67,
     "metadata": {},
     "output_type": "execute_result"
    }
   ],
   "source": [
    "kn.fit(X_train,Y_train)"
   ]
  },
  {
   "cell_type": "code",
   "execution_count": 68,
   "metadata": {},
   "outputs": [
    {
     "data": {
      "text/plain": [
       "0.5574468085106383"
      ]
     },
     "execution_count": 68,
     "metadata": {},
     "output_type": "execute_result"
    }
   ],
   "source": [
    "kn.score(X_test,Y_test)"
   ]
  },
  {
   "cell_type": "code",
   "execution_count": 69,
   "metadata": {},
   "outputs": [],
   "source": [
    "from sklearn.model_selection import GridSearchCV"
   ]
  },
  {
   "cell_type": "code",
   "execution_count": 70,
   "metadata": {},
   "outputs": [],
   "source": [
    "params={\"n_neighbors\":[3,5,6,7,9,11,13,15],\"algorithm\":[\"auto\",\"brute\"],\"weights\":[\"uniform\",\"distance\"]}"
   ]
  },
  {
   "cell_type": "code",
   "execution_count": 71,
   "metadata": {},
   "outputs": [],
   "source": [
    "kn=KNeighborsClassifier()"
   ]
  },
  {
   "cell_type": "code",
   "execution_count": 72,
   "metadata": {},
   "outputs": [],
   "source": [
    "cv=GridSearchCV(kn,params,scoring=\"roc_auc\")"
   ]
  },
  {
   "cell_type": "code",
   "execution_count": 73,
   "metadata": {},
   "outputs": [
    {
     "data": {
      "text/plain": [
       "GridSearchCV(estimator=KNeighborsClassifier(),\n",
       "             param_grid={'algorithm': ['auto', 'brute'],\n",
       "                         'n_neighbors': [3, 5, 6, 7, 9, 11, 13, 15],\n",
       "                         'weights': ['uniform', 'distance']},\n",
       "             scoring='roc_auc')"
      ]
     },
     "execution_count": 73,
     "metadata": {},
     "output_type": "execute_result"
    }
   ],
   "source": [
    "cv.fit(X_train,Y_train)"
   ]
  },
  {
   "cell_type": "code",
   "execution_count": 74,
   "metadata": {},
   "outputs": [],
   "source": [
    "kn_model=cv.best_estimator_"
   ]
  },
  {
   "cell_type": "code",
   "execution_count": 75,
   "metadata": {
    "scrolled": true
   },
   "outputs": [
    {
     "data": {
      "text/plain": [
       "KNeighborsClassifier(n_neighbors=9, weights='distance')"
      ]
     },
     "execution_count": 75,
     "metadata": {},
     "output_type": "execute_result"
    }
   ],
   "source": [
    "kn_model.fit(X_train,Y_train)"
   ]
  },
  {
   "cell_type": "code",
   "execution_count": 76,
   "metadata": {},
   "outputs": [
    {
     "data": {
      "text/plain": [
       "0.5148936170212766"
      ]
     },
     "execution_count": 76,
     "metadata": {},
     "output_type": "execute_result"
    }
   ],
   "source": [
    "kn_model.score(X_test,Y_test)"
   ]
  },
  {
   "cell_type": "code",
   "execution_count": 80,
   "metadata": {},
   "outputs": [],
   "source": [
    "from sklearn.metrics import confusion_matrix , classification_report , roc_curve , precision_recall_curve,roc_auc_score,precision_score,recall_score"
   ]
  },
  {
   "cell_type": "code",
   "execution_count": 82,
   "metadata": {},
   "outputs": [],
   "source": [
    "y_predict=kn_model.predict(X_test)"
   ]
  },
  {
   "cell_type": "code",
   "execution_count": 83,
   "metadata": {
    "scrolled": true
   },
   "outputs": [
    {
     "data": {
      "text/plain": [
       "array([[ 78,  38],\n",
       "       [190, 164]])"
      ]
     },
     "execution_count": 83,
     "metadata": {},
     "output_type": "execute_result"
    }
   ],
   "source": [
    "confusion_matrix(Y_test,y_predict)"
   ]
  },
  {
   "cell_type": "markdown",
   "metadata": {},
   "source": [
    "# Dummy Classifier"
   ]
  },
  {
   "cell_type": "code",
   "execution_count": 84,
   "metadata": {},
   "outputs": [],
   "source": [
    "from sklearn.dummy import DummyClassifier"
   ]
  },
  {
   "cell_type": "code",
   "execution_count": 85,
   "metadata": {},
   "outputs": [],
   "source": [
    "dm=DummyClassifier(strategy=\"most_frequent\")"
   ]
  },
  {
   "cell_type": "code",
   "execution_count": 86,
   "metadata": {},
   "outputs": [
    {
     "data": {
      "text/plain": [
       "DummyClassifier(strategy='most_frequent')"
      ]
     },
     "execution_count": 86,
     "metadata": {},
     "output_type": "execute_result"
    }
   ],
   "source": [
    "dm.fit(X_train,Y_train)"
   ]
  },
  {
   "cell_type": "code",
   "execution_count": 87,
   "metadata": {},
   "outputs": [
    {
     "data": {
      "text/plain": [
       "0.24680851063829787"
      ]
     },
     "execution_count": 87,
     "metadata": {},
     "output_type": "execute_result"
    }
   ],
   "source": [
    "dm.score(X_test,Y_test)"
   ]
  },
  {
   "cell_type": "code",
   "execution_count": 88,
   "metadata": {},
   "outputs": [],
   "source": [
    "y=dm.predict(X_test)"
   ]
  },
  {
   "cell_type": "code",
   "execution_count": 89,
   "metadata": {},
   "outputs": [
    {
     "data": {
      "text/plain": [
       "array([[116,   0],\n",
       "       [354,   0]])"
      ]
     },
     "execution_count": 89,
     "metadata": {},
     "output_type": "execute_result"
    }
   ],
   "source": [
    "confusion_matrix(Y_test,y)"
   ]
  },
  {
   "cell_type": "markdown",
   "metadata": {},
   "source": [
    "# Random Forest Classifier"
   ]
  },
  {
   "cell_type": "code",
   "execution_count": 95,
   "metadata": {},
   "outputs": [],
   "source": [
    "from sklearn.ensemble import RandomForestClassifier"
   ]
  },
  {
   "cell_type": "code",
   "execution_count": 96,
   "metadata": {},
   "outputs": [],
   "source": [
    "rfc=RandomForestClassifier(n_estimators=300,oob_score=True,max_depth=10,max_features=20,)"
   ]
  },
  {
   "cell_type": "code",
   "execution_count": 97,
   "metadata": {},
   "outputs": [
    {
     "data": {
      "text/plain": [
       "RandomForestClassifier(max_depth=10, max_features=20, n_estimators=300,\n",
       "                       oob_score=True)"
      ]
     },
     "execution_count": 97,
     "metadata": {},
     "output_type": "execute_result"
    }
   ],
   "source": [
    "rfc.fit(X_train,Y_train)"
   ]
  },
  {
   "cell_type": "code",
   "execution_count": 98,
   "metadata": {},
   "outputs": [
    {
     "data": {
      "text/plain": [
       "0.7851063829787234"
      ]
     },
     "execution_count": 98,
     "metadata": {},
     "output_type": "execute_result"
    }
   ],
   "source": [
    "rfc.score(X_test,Y_test)"
   ]
  },
  {
   "cell_type": "code",
   "execution_count": 99,
   "metadata": {},
   "outputs": [],
   "source": [
    "y_predict=rfc.predict(X_test)"
   ]
  },
  {
   "cell_type": "code",
   "execution_count": 100,
   "metadata": {},
   "outputs": [
    {
     "data": {
      "text/plain": [
       "array([[ 41,  75],\n",
       "       [ 26, 328]])"
      ]
     },
     "execution_count": 100,
     "metadata": {},
     "output_type": "execute_result"
    }
   ],
   "source": [
    "confusion_matrix(Y_test,y_predict)"
   ]
  },
  {
   "cell_type": "code",
   "execution_count": 101,
   "metadata": {},
   "outputs": [
    {
     "data": {
      "text/plain": [
       "1    354\n",
       "0    116\n",
       "Name: RETURNED_2ND_YR, dtype: int64"
      ]
     },
     "execution_count": 101,
     "metadata": {},
     "output_type": "execute_result"
    }
   ],
   "source": [
    "Y_test.value_counts()"
   ]
  },
  {
   "cell_type": "code",
   "execution_count": 102,
   "metadata": {
    "scrolled": true
   },
   "outputs": [
    {
     "data": {
      "text/plain": [
       "0.8998100664767331"
      ]
     },
     "execution_count": 102,
     "metadata": {},
     "output_type": "execute_result"
    }
   ],
   "source": [
    "rfc.oob_score_"
   ]
  },
  {
   "cell_type": "code",
   "execution_count": 103,
   "metadata": {},
   "outputs": [],
   "source": [
    "precisions,recalls,thresholds=precision_recall_curve(Y_test,y_predict)"
   ]
  },
  {
   "cell_type": "code",
   "execution_count": 104,
   "metadata": {},
   "outputs": [
    {
     "data": {
      "text/plain": [
       "[<matplotlib.lines.Line2D at 0x7fae5ce3f790>]"
      ]
     },
     "execution_count": 104,
     "metadata": {},
     "output_type": "execute_result"
    },
    {
     "data": {
      "image/png": "[encoded data removed]",
      "text/plain": [
       "<Figure size 432x288 with 1 Axes>"
      ]
     },
     "metadata": {
      "needs_background": "light"
     },
     "output_type": "display_data"
    }
   ],
   "source": [
    "plt.plot(precisions,recalls)"
   ]
  },
  {
   "cell_type": "code",
   "execution_count": 105,
   "metadata": {},
   "outputs": [],
   "source": [
    "fps,tps,thresholds=roc_curve(Y_test,y_predict)"
   ]
  },
  {
   "cell_type": "code",
   "execution_count": 106,
   "metadata": {
    "scrolled": true
   },
   "outputs": [
    {
     "data": {
      "text/plain": [
       "[<matplotlib.lines.Line2D at 0x7fae5d538ad0>]"
      ]
     },
     "execution_count": 106,
     "metadata": {},
     "output_type": "execute_result"
    },
    {
     "data": {
      "image/png": "[encoded data removed]",
      "text/plain": [
       "<Figure size 432x288 with 1 Axes>"
      ]
     },
     "metadata": {
      "needs_background": "light"
     },
     "output_type": "display_data"
    }
   ],
   "source": [
    "plt.plot(fps,tps)"
   ]
  },
  {
   "cell_type": "markdown",
   "metadata": {},
   "source": [
    "# Logistic Regression"
   ]
  },
  {
   "cell_type": "code",
   "execution_count": 107,
   "metadata": {},
   "outputs": [],
   "source": [
    "from sklearn.linear_model import LogisticRegression"
   ]
  },
  {
   "cell_type": "code",
   "execution_count": 108,
   "metadata": {},
   "outputs": [],
   "source": [
    "lr=LogisticRegression()"
   ]
  },
  {
   "cell_type": "code",
   "execution_count": 109,
   "metadata": {},
   "outputs": [],
   "source": [
    "params={\"C\":[1,2,3,4,6,8,9,12,15,20]}"
   ]
  },
  {
   "cell_type": "code",
   "execution_count": 110,
   "metadata": {},
   "outputs": [],
   "source": [
    "gs=GridSearchCV(lr,params)"
   ]
  },
  {
   "cell_type": "code",
   "execution_count": 111,
   "metadata": {},
   "outputs": [
    {
     "data": {
      "text/plain": [
       "GridSearchCV(estimator=LogisticRegression(),\n",
       "             param_grid={'C': [1, 2, 3, 4, 6, 8, 9, 12, 15, 20]})"
      ]
     },
     "execution_count": 111,
     "metadata": {},
     "output_type": "execute_result"
    }
   ],
   "source": [
    "gs.fit(X_train,Y_train)"
   ]
  },
  {
   "cell_type": "code",
   "execution_count": 112,
   "metadata": {},
   "outputs": [],
   "source": [
    "lr_model=gs.best_estimator_"
   ]
  },
  {
   "cell_type": "code",
   "execution_count": 113,
   "metadata": {
    "scrolled": true
   },
   "outputs": [
    {
     "data": {
      "text/plain": [
       "LogisticRegression(C=2)"
      ]
     },
     "execution_count": 113,
     "metadata": {},
     "output_type": "execute_result"
    }
   ],
   "source": [
    "lr_model.fit(X_train,Y_train)"
   ]
  },
  {
   "cell_type": "code",
   "execution_count": 114,
   "metadata": {},
   "outputs": [
    {
     "data": {
      "text/plain": [
       "0.6212765957446809"
      ]
     },
     "execution_count": 114,
     "metadata": {},
     "output_type": "execute_result"
    }
   ],
   "source": [
    "lr_model.score(X_test,Y_test)"
   ]
  },
  {
   "cell_type": "code",
   "execution_count": 115,
   "metadata": {},
   "outputs": [],
   "source": [
    "y_predict=lr_model.predict(X_test)"
   ]
  },
  {
   "cell_type": "code",
   "execution_count": 116,
   "metadata": {},
   "outputs": [
    {
     "data": {
      "text/plain": [
       "array([[ 75,  41],\n",
       "       [137, 217]])"
      ]
     },
     "execution_count": 116,
     "metadata": {},
     "output_type": "execute_result"
    }
   ],
   "source": [
    "confusion_matrix(Y_test,y_predict)"
   ]
  },
  {
   "cell_type": "code",
   "execution_count": 117,
   "metadata": {},
   "outputs": [
    {
     "data": {
      "text/plain": [
       "0.6297730372102084"
      ]
     },
     "execution_count": 117,
     "metadata": {},
     "output_type": "execute_result"
    }
   ],
   "source": [
    "roc_auc_score(Y_test,y_predict)"
   ]
  },
  {
   "cell_type": "code",
   "execution_count": 118,
   "metadata": {},
   "outputs": [],
   "source": [
    "precisions,recalls,thresholds=precision_recall_curve(Y_test,y_predict)"
   ]
  },
  {
   "cell_type": "code",
   "execution_count": 119,
   "metadata": {},
   "outputs": [
    {
     "data": {
      "text/plain": [
       "[<matplotlib.lines.Line2D at 0x7fae5d6acb90>]"
      ]
     },
     "execution_count": 119,
     "metadata": {},
     "output_type": "execute_result"
    },
    {
     "data": {
      "image/png": "[encoded data removed]",
      "text/plain": [
       "<Figure size 432x288 with 1 Axes>"
      ]
     },
     "metadata": {
      "needs_background": "light"
     },
     "output_type": "display_data"
    }
   ],
   "source": [
    "plt.plot(precisions,recalls)"
   ]
  },
  {
   "cell_type": "code",
   "execution_count": 120,
   "metadata": {},
   "outputs": [],
   "source": [
    "fps,tps,thresholds=roc_curve(Y_test,y_predict)"
   ]
  },
  {
   "cell_type": "code",
   "execution_count": 121,
   "metadata": {
    "scrolled": false
   },
   "outputs": [
    {
     "data": {
      "text/plain": [
       "[<matplotlib.lines.Line2D at 0x7fae5ee05250>]"
      ]
     },
     "execution_count": 121,
     "metadata": {},
     "output_type": "execute_result"
    },
    {
     "data": {
      "image/png": "[encoded data removed]",
      "text/plain": [
       "<Figure size 432x288 with 1 Axes>"
      ]
     },
     "metadata": {
      "needs_background": "light"
     },
     "output_type": "display_data"
    }
   ],
   "source": [
    "plt.plot(fps,tps)"
   ]
  },
  {
   "cell_type": "markdown",
   "metadata": {},
   "source": [
    "# Ensemble Techniques"
   ]
  },
  {
   "cell_type": "markdown",
   "metadata": {},
   "source": [
    "# Bagging Classifier"
   ]
  },
  {
   "cell_type": "code",
   "execution_count": 122,
   "metadata": {},
   "outputs": [],
   "source": [
    "from sklearn.ensemble import BaggingClassifier"
   ]
  },
  {
   "cell_type": "code",
   "execution_count": 123,
   "metadata": {},
   "outputs": [],
   "source": [
    "bag_clf=BaggingClassifier(lr_model,n_estimators=100,bootstrap=True)"
   ]
  },
  {
   "cell_type": "code",
   "execution_count": 124,
   "metadata": {},
   "outputs": [
    {
     "data": {
      "text/plain": [
       "BaggingClassifier(base_estimator=LogisticRegression(C=2), n_estimators=100)"
      ]
     },
     "execution_count": 124,
     "metadata": {},
     "output_type": "execute_result"
    }
   ],
   "source": [
    "#bag_clf.fit(X_train,Y_train)"
   ]
  },
  {
   "cell_type": "code",
   "execution_count": 125,
   "metadata": {},
   "outputs": [
    {
     "data": {
      "text/plain": [
       "0.6234042553191489"
      ]
     },
     "execution_count": 125,
     "metadata": {},
     "output_type": "execute_result"
    }
   ],
   "source": [
    "bag_clf.score(X_test,Y_test)"
   ]
  },
  {
   "cell_type": "code",
   "execution_count": 126,
   "metadata": {},
   "outputs": [],
   "source": [
    "y_predict=bag_clf.predict(X_test)"
   ]
  },
  {
   "cell_type": "code",
   "execution_count": 127,
   "metadata": {},
   "outputs": [
    {
     "data": {
      "text/plain": [
       "array([[ 75,  41],\n",
       "       [136, 218]])"
      ]
     },
     "execution_count": 127,
     "metadata": {},
     "output_type": "execute_result"
    }
   ],
   "source": [
    "confusion_matrix(Y_test,y_predict)"
   ]
  },
  {
   "cell_type": "code",
   "execution_count": 128,
   "metadata": {},
   "outputs": [
    {
     "name": "stdout",
     "output_type": "stream",
     "text": [
      "              precision    recall  f1-score   support\n",
      "\n",
      "           0       0.36      0.65      0.46       116\n",
      "           1       0.84      0.62      0.71       354\n",
      "\n",
      "    accuracy                           0.62       470\n",
      "   macro avg       0.60      0.63      0.58       470\n",
      "weighted avg       0.72      0.62      0.65       470\n",
      "\n"
     ]
    }
   ],
   "source": [
    "print(classification_report(Y_test,y_predict))"
   ]
  },
  {
   "cell_type": "code",
   "execution_count": 129,
   "metadata": {},
   "outputs": [],
   "source": [
    "precisions,recalls,thresholds=precision_recall_curve(Y_test,y_predict)"
   ]
  },
  {
   "cell_type": "code",
   "execution_count": 130,
   "metadata": {},
   "outputs": [
    {
     "data": {
      "text/plain": [
       "[<matplotlib.lines.Line2D at 0x7fae5efcfb50>]"
      ]
     },
     "execution_count": 130,
     "metadata": {},
     "output_type": "execute_result"
    },
    {
     "data": {
      "image/png": "[encoded data removed]",
      "text/plain": [
       "<Figure size 432x288 with 1 Axes>"
      ]
     },
     "metadata": {
      "needs_background": "light"
     },
     "output_type": "display_data"
    }
   ],
   "source": [
    "plt.plot(precisions,recalls)"
   ]
  },
  {
   "cell_type": "code",
   "execution_count": 131,
   "metadata": {},
   "outputs": [],
   "source": [
    "fps,tps,thresholds=roc_curve(Y_test,y_predict)"
   ]
  },
  {
   "cell_type": "code",
   "execution_count": 132,
   "metadata": {
    "scrolled": true
   },
   "outputs": [
    {
     "data": {
      "text/plain": [
       "[<matplotlib.lines.Line2D at 0x7fae61449210>]"
      ]
     },
     "execution_count": 132,
     "metadata": {},
     "output_type": "execute_result"
    },
    {
     "data": {
      "image/png": "[encoded data removed]",
      "text/plain": [
       "<Figure size 432x288 with 1 Axes>"
      ]
     },
     "metadata": {
      "needs_background": "light"
     },
     "output_type": "display_data"
    }
   ],
   "source": [
    "plt.plot(fps,tps)"
   ]
  },
  {
   "cell_type": "code",
   "execution_count": 133,
   "metadata": {},
   "outputs": [
    {
     "data": {
      "text/plain": [
       "0.6311854665887395"
      ]
     },
     "execution_count": 133,
     "metadata": {},
     "output_type": "execute_result"
    }
   ],
   "source": [
    "roc_auc_score(Y_test,y_predict)"
   ]
  },
  {
   "cell_type": "code",
   "execution_count": 134,
   "metadata": {},
   "outputs": [],
   "source": [
    "bag_clf=BaggingClassifier(svc,n_estimators=100,bootstrap=True)"
   ]
  },
  {
   "cell_type": "code",
   "execution_count": 135,
   "metadata": {},
   "outputs": [
    {
     "data": {
      "text/plain": [
       "BaggingClassifier(base_estimator=SVC(C=500, gamma=0.01), n_estimators=100)"
      ]
     },
     "execution_count": 135,
     "metadata": {},
     "output_type": "execute_result"
    }
   ],
   "source": [
    "bag_clf.fit(X_train,Y_train)"
   ]
  },
  {
   "cell_type": "code",
   "execution_count": 136,
   "metadata": {},
   "outputs": [
    {
     "data": {
      "text/plain": [
       "0.6893617021276596"
      ]
     },
     "execution_count": 136,
     "metadata": {},
     "output_type": "execute_result"
    }
   ],
   "source": [
    "bag_clf.score(X_test,Y_test)"
   ]
  },
  {
   "cell_type": "code",
   "execution_count": 137,
   "metadata": {},
   "outputs": [],
   "source": [
    "y_predict=bag_clf.predict(X_test)"
   ]
  },
  {
   "cell_type": "code",
   "execution_count": 138,
   "metadata": {},
   "outputs": [
    {
     "data": {
      "text/plain": [
       "array([[ 48,  68],\n",
       "       [ 78, 276]])"
      ]
     },
     "execution_count": 138,
     "metadata": {},
     "output_type": "execute_result"
    }
   ],
   "source": [
    "confusion_matrix(Y_test,y_predict)"
   ]
  },
  {
   "cell_type": "markdown",
   "metadata": {},
   "source": [
    "# Adaboost Classifier"
   ]
  },
  {
   "cell_type": "code",
   "execution_count": 254,
   "metadata": {},
   "outputs": [],
   "source": [
    "from sklearn.ensemble import AdaBoostClassifier"
   ]
  },
  {
   "cell_type": "code",
   "execution_count": 273,
   "metadata": {},
   "outputs": [],
   "source": [
    "ada=AdaBoostClassifier(n_estimators=300)"
   ]
  },
  {
   "cell_type": "code",
   "execution_count": 274,
   "metadata": {
    "scrolled": true
   },
   "outputs": [
    {
     "data": {
      "text/plain": [
       "AdaBoostClassifier(n_estimators=300)"
      ]
     },
     "execution_count": 274,
     "metadata": {},
     "output_type": "execute_result"
    }
   ],
   "source": [
    "ada.fit(X_train,Y_train)"
   ]
  },
  {
   "cell_type": "code",
   "execution_count": 275,
   "metadata": {
    "scrolled": true
   },
   "outputs": [
    {
     "data": {
      "text/plain": [
       "0.8063829787234043"
      ]
     },
     "execution_count": 275,
     "metadata": {},
     "output_type": "execute_result"
    }
   ],
   "source": [
    "ada.score(X_test,Y_test)"
   ]
  },
  {
   "cell_type": "code",
   "execution_count": 276,
   "metadata": {},
   "outputs": [],
   "source": [
    "y_predict=ada.predict(X_test)"
   ]
  },
  {
   "cell_type": "code",
   "execution_count": 277,
   "metadata": {
    "scrolled": true
   },
   "outputs": [
    {
     "data": {
      "text/plain": [
       "array([[ 49,  67],\n",
       "       [ 24, 330]])"
      ]
     },
     "execution_count": 277,
     "metadata": {},
     "output_type": "execute_result"
    }
   ],
   "source": [
    "confusion_matrix(Y_test,y_predict)"
   ]
  },
  {
   "cell_type": "code",
   "execution_count": 278,
   "metadata": {
    "scrolled": true
   },
   "outputs": [
    {
     "data": {
      "text/plain": [
       "0.8312342569269522"
      ]
     },
     "execution_count": 278,
     "metadata": {},
     "output_type": "execute_result"
    }
   ],
   "source": [
    "precision_score(Y_test,y_predict)"
   ]
  },
  {
   "cell_type": "code",
   "execution_count": 279,
   "metadata": {},
   "outputs": [
    {
     "data": {
      "text/plain": [
       "0.9322033898305084"
      ]
     },
     "execution_count": 279,
     "metadata": {},
     "output_type": "execute_result"
    }
   ],
   "source": [
    "recall_score(Y_test,y_predict)"
   ]
  },
  {
   "cell_type": "code",
   "execution_count": 280,
   "metadata": {
    "scrolled": false
   },
   "outputs": [
    {
     "name": "stdout",
     "output_type": "stream",
     "text": [
      "              precision    recall  f1-score   support\n",
      "\n",
      "           0       0.67      0.42      0.52       116\n",
      "           1       0.83      0.93      0.88       354\n",
      "\n",
      "    accuracy                           0.81       470\n",
      "   macro avg       0.75      0.68      0.70       470\n",
      "weighted avg       0.79      0.81      0.79       470\n",
      "\n"
     ]
    }
   ],
   "source": [
    "print(classification_report(Y_test,y_predict))"
   ]
  },
  {
   "cell_type": "markdown",
   "metadata": {},
   "source": [
    "# Testing on the Test Data for Test Score"
   ]
  },
  {
   "cell_type": "code",
   "execution_count": 919,
   "metadata": {},
   "outputs": [
    {
     "data": {
      "text/plain": [
       "0.8235294117647058"
      ]
     },
     "execution_count": 919,
     "metadata": {},
     "output_type": "execute_result"
    }
   ],
   "source": [
    "ada.score(x_test,y_test)"
   ]
  },
  {
   "cell_type": "code",
   "execution_count": 920,
   "metadata": {},
   "outputs": [],
   "source": [
    "y_predict=ada.predict(x_test)"
   ]
  },
  {
   "cell_type": "code",
   "execution_count": 922,
   "metadata": {},
   "outputs": [
    {
     "data": {
      "text/plain": [
       "array([[ 22,  33],\n",
       "       [ 15, 202]])"
      ]
     },
     "execution_count": 922,
     "metadata": {},
     "output_type": "execute_result"
    }
   ],
   "source": [
    "confusion_matrix(y_test,y_predict)"
   ]
  },
  {
   "cell_type": "code",
   "execution_count": 923,
   "metadata": {},
   "outputs": [
    {
     "data": {
      "text/plain": [
       "0.8595744680851064"
      ]
     },
     "execution_count": 923,
     "metadata": {},
     "output_type": "execute_result"
    }
   ],
   "source": [
    "precision_score(y_test,y_predict)"
   ]
  },
  {
   "cell_type": "code",
   "execution_count": 924,
   "metadata": {
    "scrolled": true
   },
   "outputs": [
    {
     "data": {
      "text/plain": [
       "0.9308755760368663"
      ]
     },
     "execution_count": 924,
     "metadata": {},
     "output_type": "execute_result"
    }
   ],
   "source": [
    "recall_score(y_test,y_predict)"
   ]
  },
  {
   "cell_type": "code",
   "execution_count": 925,
   "metadata": {},
   "outputs": [
    {
     "name": "stdout",
     "output_type": "stream",
     "text": [
      "              precision    recall  f1-score   support\n",
      "\n",
      "           0       0.59      0.40      0.48        55\n",
      "           1       0.86      0.93      0.89       217\n",
      "\n",
      "    accuracy                           0.82       272\n",
      "   macro avg       0.73      0.67      0.69       272\n",
      "weighted avg       0.81      0.82      0.81       272\n",
      "\n"
     ]
    }
   ],
   "source": [
    "print(classification_report(y_test,y_predict))"
   ]
  },
  {
   "cell_type": "code",
   "execution_count": 926,
   "metadata": {},
   "outputs": [],
   "source": [
    "precisions,recalls,thresholds=precision_recall_curve(y_test,y_predict)"
   ]
  },
  {
   "cell_type": "code",
   "execution_count": 928,
   "metadata": {},
   "outputs": [
    {
     "data": {
      "text/plain": [
       "[<matplotlib.lines.Line2D at 0x7fae50a65090>]"
      ]
     },
     "execution_count": 928,
     "metadata": {},
     "output_type": "execute_result"
    },
    {
     "data": {
      "image/png": "[encoded data removed]",
      "text/plain": [
       "<Figure size 432x288 with 1 Axes>"
      ]
     },
     "metadata": {
      "needs_background": "light"
     },
     "output_type": "display_data"
    }
   ],
   "source": [
    "plt.plot(precisions,recalls)"
   ]
  },
  {
   "cell_type": "code",
   "execution_count": 929,
   "metadata": {},
   "outputs": [],
   "source": [
    "fps,tps,thresholds=roc_curve(y_test,y_predict)"
   ]
  },
  {
   "cell_type": "code",
   "execution_count": 930,
   "metadata": {
    "scrolled": true
   },
   "outputs": [
    {
     "data": {
      "text/plain": [
       "[<matplotlib.lines.Line2D at 0x7fae50f8dc90>]"
      ]
     },
     "execution_count": 930,
     "metadata": {},
     "output_type": "execute_result"
    },
    {
     "data": {
      "image/png": "[encoded data removed]",
      "text/plain": [
       "<Figure size 432x288 with 1 Axes>"
      ]
     },
     "metadata": {
      "needs_background": "light"
     },
     "output_type": "display_data"
    }
   ],
   "source": [
    "plt.plot(fps,tps)"
   ]
  },
  {
   "cell_type": "code",
   "execution_count": 931,
   "metadata": {},
   "outputs": [
    {
     "data": {
      "text/plain": [
       "0.6654377880184332"
      ]
     },
     "execution_count": 931,
     "metadata": {},
     "output_type": "execute_result"
    }
   ],
   "source": [
    "roc_auc_score(y_test,y_predict)"
   ]
  },
  {
   "cell_type": "markdown",
   "metadata": {},
   "source": [
    "# Gradient Boosting"
   ]
  },
  {
   "cell_type": "code",
   "execution_count": 148,
   "metadata": {},
   "outputs": [],
   "source": [
    "from sklearn.ensemble import GradientBoostingClassifier"
   ]
  },
  {
   "cell_type": "code",
   "execution_count": 149,
   "metadata": {},
   "outputs": [],
   "source": [
    "gbc=GradientBoostingClassifier(n_estimators=100,learning_rate=0.1)"
   ]
  },
  {
   "cell_type": "code",
   "execution_count": 150,
   "metadata": {},
   "outputs": [
    {
     "data": {
      "text/plain": [
       "GradientBoostingClassifier()"
      ]
     },
     "execution_count": 150,
     "metadata": {},
     "output_type": "execute_result"
    }
   ],
   "source": [
    "gbc.fit(X_train,Y_train)"
   ]
  },
  {
   "cell_type": "code",
   "execution_count": 151,
   "metadata": {},
   "outputs": [
    {
     "data": {
      "text/plain": [
       "0.8063829787234043"
      ]
     },
     "execution_count": 151,
     "metadata": {},
     "output_type": "execute_result"
    }
   ],
   "source": [
    "gbc.score(X_test,Y_test)"
   ]
  },
  {
   "cell_type": "code",
   "execution_count": 152,
   "metadata": {},
   "outputs": [],
   "source": [
    "y_predict=gbc.predict(X_test)"
   ]
  },
  {
   "cell_type": "code",
   "execution_count": 153,
   "metadata": {},
   "outputs": [
    {
     "data": {
      "text/plain": [
       "array([[ 41,  75],\n",
       "       [ 16, 338]])"
      ]
     },
     "execution_count": 153,
     "metadata": {},
     "output_type": "execute_result"
    }
   ],
   "source": [
    "confusion_matrix(Y_test,y_predict)"
   ]
  },
  {
   "cell_type": "code",
   "execution_count": 154,
   "metadata": {},
   "outputs": [
    {
     "data": {
      "text/html": [
       "<div>\n",
       "<style scoped>\n",
       "    .dataframe tbody tr th:only-of-type {\n",
       "        vertical-align: middle;\n",
       "    }\n",
       "\n",
       "    .dataframe tbody tr th {\n",
       "        vertical-align: top;\n",
       "    }\n",
       "\n",
       "    .dataframe thead th {\n",
       "        text-align: right;\n",
       "    }\n",
       "</style>\n",
       "<table border=\"1\" class=\"dataframe\">\n",
       "  <thead>\n",
       "    <tr style=\"text-align: right;\">\n",
       "      <th></th>\n",
       "      <th>STUDENT IDENTIFIER</th>\n",
       "      <th>STDNT_AGE</th>\n",
       "      <th>STDNT_GENDER</th>\n",
       "      <th>IN_STATE_FLAG</th>\n",
       "      <th>INTERNATIONAL_STS</th>\n",
       "      <th>STDNT_MAJOR</th>\n",
       "      <th>STDNT_TEST_ENTRANCE_COMB</th>\n",
       "      <th>FIRST_TERM</th>\n",
       "      <th>CORE_COURSE_NAME_1_F</th>\n",
       "      <th>CORE_COURSE_GRADE_1_F</th>\n",
       "      <th>...</th>\n",
       "      <th>MOTHER_HI_EDU_CD</th>\n",
       "      <th>FIRST_TERM_ATTEMPT_HRS</th>\n",
       "      <th>FIRST_TERM_EARNED_HRS</th>\n",
       "      <th>SECOND_TERM_ATTEMPT_HRS</th>\n",
       "      <th>SECOND_TERM_EARNED_HRS</th>\n",
       "      <th>GROSS_FIN_NEED</th>\n",
       "      <th>COST_OF_ATTEND</th>\n",
       "      <th>EST_FAM_CONTRIBUTION</th>\n",
       "      <th>UNMET_NEED</th>\n",
       "      <th>Background</th>\n",
       "    </tr>\n",
       "  </thead>\n",
       "  <tbody>\n",
       "    <tr>\n",
       "      <th>0</th>\n",
       "      <td>7808615</td>\n",
       "      <td>18</td>\n",
       "      <td>1</td>\n",
       "      <td>1</td>\n",
       "      <td>0</td>\n",
       "      <td>Undeclared</td>\n",
       "      <td>1150.0</td>\n",
       "      <td>200708</td>\n",
       "      <td>ANTH 1105</td>\n",
       "      <td>5</td>\n",
       "      <td>...</td>\n",
       "      <td>2.571281</td>\n",
       "      <td>16</td>\n",
       "      <td>16</td>\n",
       "      <td>14.000000</td>\n",
       "      <td>14.000000</td>\n",
       "      <td>0</td>\n",
       "      <td>0</td>\n",
       "      <td>0</td>\n",
       "      <td>0.0</td>\n",
       "      <td>-0.476868</td>\n",
       "    </tr>\n",
       "    <tr>\n",
       "      <th>11</th>\n",
       "      <td>7884573</td>\n",
       "      <td>18</td>\n",
       "      <td>1</td>\n",
       "      <td>1</td>\n",
       "      <td>0</td>\n",
       "      <td>Undeclared</td>\n",
       "      <td>1070.0</td>\n",
       "      <td>200708</td>\n",
       "      <td>ARTH 1100</td>\n",
       "      <td>5</td>\n",
       "      <td>...</td>\n",
       "      <td>2.000000</td>\n",
       "      <td>16</td>\n",
       "      <td>16</td>\n",
       "      <td>16.000000</td>\n",
       "      <td>16.000000</td>\n",
       "      <td>0</td>\n",
       "      <td>1189920</td>\n",
       "      <td>5163240</td>\n",
       "      <td>-326880.0</td>\n",
       "      <td>-0.476868</td>\n",
       "    </tr>\n",
       "    <tr>\n",
       "      <th>17</th>\n",
       "      <td>8004193</td>\n",
       "      <td>17</td>\n",
       "      <td>0</td>\n",
       "      <td>0</td>\n",
       "      <td>0</td>\n",
       "      <td>Biology</td>\n",
       "      <td>1030.0</td>\n",
       "      <td>200908</td>\n",
       "      <td>BIOL 1215K</td>\n",
       "      <td>5</td>\n",
       "      <td>...</td>\n",
       "      <td>2.000000</td>\n",
       "      <td>14</td>\n",
       "      <td>14</td>\n",
       "      <td>14.000000</td>\n",
       "      <td>14.000000</td>\n",
       "      <td>1083000</td>\n",
       "      <td>1324500</td>\n",
       "      <td>241500</td>\n",
       "      <td>476580.0</td>\n",
       "      <td>-0.476868</td>\n",
       "    </tr>\n",
       "    <tr>\n",
       "      <th>23</th>\n",
       "      <td>8007842</td>\n",
       "      <td>18</td>\n",
       "      <td>1</td>\n",
       "      <td>1</td>\n",
       "      <td>0</td>\n",
       "      <td>Pre-Nursing</td>\n",
       "      <td>590.0</td>\n",
       "      <td>200808</td>\n",
       "      <td>CHEM 1151</td>\n",
       "      <td>5</td>\n",
       "      <td>...</td>\n",
       "      <td>2.000000</td>\n",
       "      <td>15</td>\n",
       "      <td>15</td>\n",
       "      <td>15.000000</td>\n",
       "      <td>15.000000</td>\n",
       "      <td>0</td>\n",
       "      <td>0</td>\n",
       "      <td>0</td>\n",
       "      <td>0.0</td>\n",
       "      <td>-0.476868</td>\n",
       "    </tr>\n",
       "    <tr>\n",
       "      <th>36</th>\n",
       "      <td>7799972</td>\n",
       "      <td>18</td>\n",
       "      <td>1</td>\n",
       "      <td>1</td>\n",
       "      <td>0</td>\n",
       "      <td>Undeclared</td>\n",
       "      <td>640.0</td>\n",
       "      <td>200508</td>\n",
       "      <td>COMM 1110</td>\n",
       "      <td>5</td>\n",
       "      <td>...</td>\n",
       "      <td>2.571281</td>\n",
       "      <td>18</td>\n",
       "      <td>18</td>\n",
       "      <td>14.000000</td>\n",
       "      <td>14.000000</td>\n",
       "      <td>0</td>\n",
       "      <td>0</td>\n",
       "      <td>0</td>\n",
       "      <td>0.0</td>\n",
       "      <td>-0.476868</td>\n",
       "    </tr>\n",
       "    <tr>\n",
       "      <th>...</th>\n",
       "      <td>...</td>\n",
       "      <td>...</td>\n",
       "      <td>...</td>\n",
       "      <td>...</td>\n",
       "      <td>...</td>\n",
       "      <td>...</td>\n",
       "      <td>...</td>\n",
       "      <td>...</td>\n",
       "      <td>...</td>\n",
       "      <td>...</td>\n",
       "      <td>...</td>\n",
       "      <td>...</td>\n",
       "      <td>...</td>\n",
       "      <td>...</td>\n",
       "      <td>...</td>\n",
       "      <td>...</td>\n",
       "      <td>...</td>\n",
       "      <td>...</td>\n",
       "      <td>...</td>\n",
       "      <td>...</td>\n",
       "      <td>...</td>\n",
       "    </tr>\n",
       "    <tr>\n",
       "      <th>3394</th>\n",
       "      <td>7960053</td>\n",
       "      <td>18</td>\n",
       "      <td>1</td>\n",
       "      <td>1</td>\n",
       "      <td>0</td>\n",
       "      <td>Theatre Arts</td>\n",
       "      <td>990.0</td>\n",
       "      <td>201008</td>\n",
       "      <td>ENGL 1101</td>\n",
       "      <td>0</td>\n",
       "      <td>...</td>\n",
       "      <td>2.000000</td>\n",
       "      <td>13</td>\n",
       "      <td>3</td>\n",
       "      <td>14.285848</td>\n",
       "      <td>12.511125</td>\n",
       "      <td>0</td>\n",
       "      <td>0</td>\n",
       "      <td>0</td>\n",
       "      <td>0.0</td>\n",
       "      <td>-0.476868</td>\n",
       "    </tr>\n",
       "    <tr>\n",
       "      <th>3395</th>\n",
       "      <td>7948112</td>\n",
       "      <td>18</td>\n",
       "      <td>1</td>\n",
       "      <td>0</td>\n",
       "      <td>0</td>\n",
       "      <td>Music Performance</td>\n",
       "      <td>790.0</td>\n",
       "      <td>200808</td>\n",
       "      <td>COMM 1110</td>\n",
       "      <td>5</td>\n",
       "      <td>...</td>\n",
       "      <td>2.571281</td>\n",
       "      <td>18</td>\n",
       "      <td>18</td>\n",
       "      <td>16.000000</td>\n",
       "      <td>13.000000</td>\n",
       "      <td>0</td>\n",
       "      <td>0</td>\n",
       "      <td>0</td>\n",
       "      <td>0.0</td>\n",
       "      <td>0.300614</td>\n",
       "    </tr>\n",
       "    <tr>\n",
       "      <th>3396</th>\n",
       "      <td>8023055</td>\n",
       "      <td>18</td>\n",
       "      <td>1</td>\n",
       "      <td>1</td>\n",
       "      <td>0</td>\n",
       "      <td>Biology</td>\n",
       "      <td>950.0</td>\n",
       "      <td>200708</td>\n",
       "      <td>POLS 1101</td>\n",
       "      <td>4</td>\n",
       "      <td>...</td>\n",
       "      <td>2.571281</td>\n",
       "      <td>13</td>\n",
       "      <td>9</td>\n",
       "      <td>14.285848</td>\n",
       "      <td>12.511125</td>\n",
       "      <td>0</td>\n",
       "      <td>0</td>\n",
       "      <td>0</td>\n",
       "      <td>0.0</td>\n",
       "      <td>-0.476868</td>\n",
       "    </tr>\n",
       "    <tr>\n",
       "      <th>3397</th>\n",
       "      <td>7926915</td>\n",
       "      <td>18</td>\n",
       "      <td>1</td>\n",
       "      <td>1</td>\n",
       "      <td>0</td>\n",
       "      <td>Biology</td>\n",
       "      <td>1030.0</td>\n",
       "      <td>200808</td>\n",
       "      <td>ENGL 1101</td>\n",
       "      <td>3</td>\n",
       "      <td>...</td>\n",
       "      <td>2.000000</td>\n",
       "      <td>14</td>\n",
       "      <td>6</td>\n",
       "      <td>14.285848</td>\n",
       "      <td>12.511125</td>\n",
       "      <td>0</td>\n",
       "      <td>945840</td>\n",
       "      <td>1288980</td>\n",
       "      <td>0.0</td>\n",
       "      <td>0.300614</td>\n",
       "    </tr>\n",
       "    <tr>\n",
       "      <th>3399</th>\n",
       "      <td>7928405</td>\n",
       "      <td>18</td>\n",
       "      <td>0</td>\n",
       "      <td>1</td>\n",
       "      <td>0</td>\n",
       "      <td>Art</td>\n",
       "      <td>870.0</td>\n",
       "      <td>201008</td>\n",
       "      <td>HIST 2111</td>\n",
       "      <td>2</td>\n",
       "      <td>...</td>\n",
       "      <td>3.000000</td>\n",
       "      <td>12</td>\n",
       "      <td>9</td>\n",
       "      <td>13.000000</td>\n",
       "      <td>6.000000</td>\n",
       "      <td>0</td>\n",
       "      <td>0</td>\n",
       "      <td>0</td>\n",
       "      <td>0.0</td>\n",
       "      <td>0.292514</td>\n",
       "    </tr>\n",
       "  </tbody>\n",
       "</table>\n",
       "<p>723 rows × 44 columns</p>\n",
       "</div>"
      ],
      "text/plain": [
       "      STUDENT IDENTIFIER  STDNT_AGE  STDNT_GENDER  IN_STATE_FLAG  \\\n",
       "0                7808615         18             1              1   \n",
       "11               7884573         18             1              1   \n",
       "17               8004193         17             0              0   \n",
       "23               8007842         18             1              1   \n",
       "36               7799972         18             1              1   \n",
       "...                  ...        ...           ...            ...   \n",
       "3394             7960053         18             1              1   \n",
       "3395             7948112         18             1              0   \n",
       "3396             8023055         18             1              1   \n",
       "3397             7926915         18             1              1   \n",
       "3399             7928405         18             0              1   \n",
       "\n",
       "      INTERNATIONAL_STS        STDNT_MAJOR  STDNT_TEST_ENTRANCE_COMB  \\\n",
       "0                     0         Undeclared                    1150.0   \n",
       "11                    0         Undeclared                    1070.0   \n",
       "17                    0            Biology                    1030.0   \n",
       "23                    0        Pre-Nursing                     590.0   \n",
       "36                    0         Undeclared                     640.0   \n",
       "...                 ...                ...                       ...   \n",
       "3394                  0       Theatre Arts                     990.0   \n",
       "3395                  0  Music Performance                     790.0   \n",
       "3396                  0            Biology                     950.0   \n",
       "3397                  0            Biology                    1030.0   \n",
       "3399                  0                Art                     870.0   \n",
       "\n",
       "      FIRST_TERM CORE_COURSE_NAME_1_F  CORE_COURSE_GRADE_1_F  ...  \\\n",
       "0         200708            ANTH 1105                      5  ...   \n",
       "11        200708            ARTH 1100                      5  ...   \n",
       "17        200908           BIOL 1215K                      5  ...   \n",
       "23        200808            CHEM 1151                      5  ...   \n",
       "36        200508            COMM 1110                      5  ...   \n",
       "...          ...                  ...                    ...  ...   \n",
       "3394      201008            ENGL 1101                      0  ...   \n",
       "3395      200808            COMM 1110                      5  ...   \n",
       "3396      200708            POLS 1101                      4  ...   \n",
       "3397      200808            ENGL 1101                      3  ...   \n",
       "3399      201008            HIST 2111                      2  ...   \n",
       "\n",
       "     MOTHER_HI_EDU_CD  FIRST_TERM_ATTEMPT_HRS FIRST_TERM_EARNED_HRS  \\\n",
       "0            2.571281                      16                    16   \n",
       "11           2.000000                      16                    16   \n",
       "17           2.000000                      14                    14   \n",
       "23           2.000000                      15                    15   \n",
       "36           2.571281                      18                    18   \n",
       "...               ...                     ...                   ...   \n",
       "3394         2.000000                      13                     3   \n",
       "3395         2.571281                      18                    18   \n",
       "3396         2.571281                      13                     9   \n",
       "3397         2.000000                      14                     6   \n",
       "3399         3.000000                      12                     9   \n",
       "\n",
       "      SECOND_TERM_ATTEMPT_HRS SECOND_TERM_EARNED_HRS  GROSS_FIN_NEED  \\\n",
       "0                   14.000000              14.000000               0   \n",
       "11                  16.000000              16.000000               0   \n",
       "17                  14.000000              14.000000         1083000   \n",
       "23                  15.000000              15.000000               0   \n",
       "36                  14.000000              14.000000               0   \n",
       "...                       ...                    ...             ...   \n",
       "3394                14.285848              12.511125               0   \n",
       "3395                16.000000              13.000000               0   \n",
       "3396                14.285848              12.511125               0   \n",
       "3397                14.285848              12.511125               0   \n",
       "3399                13.000000               6.000000               0   \n",
       "\n",
       "     COST_OF_ATTEND EST_FAM_CONTRIBUTION  UNMET_NEED Background  \n",
       "0                 0                    0         0.0  -0.476868  \n",
       "11          1189920              5163240   -326880.0  -0.476868  \n",
       "17          1324500               241500    476580.0  -0.476868  \n",
       "23                0                    0         0.0  -0.476868  \n",
       "36                0                    0         0.0  -0.476868  \n",
       "...             ...                  ...         ...        ...  \n",
       "3394              0                    0         0.0  -0.476868  \n",
       "3395              0                    0         0.0   0.300614  \n",
       "3396              0                    0         0.0  -0.476868  \n",
       "3397         945840              1288980         0.0   0.300614  \n",
       "3399              0                    0         0.0   0.292514  \n",
       "\n",
       "[723 rows x 44 columns]"
      ]
     },
     "execution_count": 154,
     "metadata": {},
     "output_type": "execute_result"
    }
   ],
   "source": [
    "df_dropped"
   ]
  },
  {
   "cell_type": "markdown",
   "metadata": {},
   "source": [
    "# Feature Testing"
   ]
  },
  {
   "cell_type": "code",
   "execution_count": 155,
   "metadata": {},
   "outputs": [],
   "source": [
    "a=ada.feature_importances_"
   ]
  },
  {
   "cell_type": "code",
   "execution_count": 156,
   "metadata": {},
   "outputs": [],
   "source": [
    "t=pd.DataFrame(a)"
   ]
  },
  {
   "cell_type": "code",
   "execution_count": 157,
   "metadata": {},
   "outputs": [],
   "source": [
    "t[\"name\"]=X_train.columns"
   ]
  },
  {
   "cell_type": "code",
   "execution_count": 158,
   "metadata": {},
   "outputs": [
    {
     "data": {
      "text/html": [
       "<div>\n",
       "<style scoped>\n",
       "    .dataframe tbody tr th:only-of-type {\n",
       "        vertical-align: middle;\n",
       "    }\n",
       "\n",
       "    .dataframe tbody tr th {\n",
       "        vertical-align: top;\n",
       "    }\n",
       "\n",
       "    .dataframe thead th {\n",
       "        text-align: right;\n",
       "    }\n",
       "</style>\n",
       "<table border=\"1\" class=\"dataframe\">\n",
       "  <thead>\n",
       "    <tr style=\"text-align: right;\">\n",
       "      <th></th>\n",
       "      <th>0</th>\n",
       "      <th>name</th>\n",
       "    </tr>\n",
       "  </thead>\n",
       "  <tbody>\n",
       "    <tr>\n",
       "      <th>13</th>\n",
       "      <td>0.00</td>\n",
       "      <td>HOUSING_STS</td>\n",
       "    </tr>\n",
       "    <tr>\n",
       "      <th>24</th>\n",
       "      <td>0.00</td>\n",
       "      <td>EST_FAM_CONTRIBUTION</td>\n",
       "    </tr>\n",
       "    <tr>\n",
       "      <th>2</th>\n",
       "      <td>0.00</td>\n",
       "      <td>IN_STATE_FLAG</td>\n",
       "    </tr>\n",
       "    <tr>\n",
       "      <th>3</th>\n",
       "      <td>0.00</td>\n",
       "      <td>INTERNATIONAL_STS</td>\n",
       "    </tr>\n",
       "    <tr>\n",
       "      <th>22</th>\n",
       "      <td>0.00</td>\n",
       "      <td>GROSS_FIN_NEED</td>\n",
       "    </tr>\n",
       "    <tr>\n",
       "      <th>17</th>\n",
       "      <td>0.00</td>\n",
       "      <td>MOTHER_HI_EDU_CD</td>\n",
       "    </tr>\n",
       "    <tr>\n",
       "      <th>25</th>\n",
       "      <td>0.01</td>\n",
       "      <td>UNMET_NEED</td>\n",
       "    </tr>\n",
       "    <tr>\n",
       "      <th>8</th>\n",
       "      <td>0.02</td>\n",
       "      <td>CORE_COURSE_GRADE_3_F</td>\n",
       "    </tr>\n",
       "    <tr>\n",
       "      <th>0</th>\n",
       "      <td>0.02</td>\n",
       "      <td>STDNT_AGE</td>\n",
       "    </tr>\n",
       "    <tr>\n",
       "      <th>5</th>\n",
       "      <td>0.02</td>\n",
       "      <td>STDNT_TEST_ENTRANCE_COMB</td>\n",
       "    </tr>\n",
       "    <tr>\n",
       "      <th>1</th>\n",
       "      <td>0.02</td>\n",
       "      <td>STDNT_GENDER</td>\n",
       "    </tr>\n",
       "    <tr>\n",
       "      <th>23</th>\n",
       "      <td>0.03</td>\n",
       "      <td>COST_OF_ATTEND</td>\n",
       "    </tr>\n",
       "    <tr>\n",
       "      <th>21</th>\n",
       "      <td>0.03</td>\n",
       "      <td>SECOND_TERM_EARNED_HRS</td>\n",
       "    </tr>\n",
       "    <tr>\n",
       "      <th>19</th>\n",
       "      <td>0.03</td>\n",
       "      <td>FIRST_TERM_EARNED_HRS</td>\n",
       "    </tr>\n",
       "    <tr>\n",
       "      <th>26</th>\n",
       "      <td>0.03</td>\n",
       "      <td>Background</td>\n",
       "    </tr>\n",
       "    <tr>\n",
       "      <th>15</th>\n",
       "      <td>0.04</td>\n",
       "      <td>HIGH_SCHL_GPA</td>\n",
       "    </tr>\n",
       "    <tr>\n",
       "      <th>6</th>\n",
       "      <td>0.04</td>\n",
       "      <td>CORE_COURSE_GRADE_1_F</td>\n",
       "    </tr>\n",
       "    <tr>\n",
       "      <th>7</th>\n",
       "      <td>0.05</td>\n",
       "      <td>CORE_COURSE_GRADE_2_F</td>\n",
       "    </tr>\n",
       "    <tr>\n",
       "      <th>4</th>\n",
       "      <td>0.05</td>\n",
       "      <td>STDNT_MAJOR</td>\n",
       "    </tr>\n",
       "    <tr>\n",
       "      <th>18</th>\n",
       "      <td>0.06</td>\n",
       "      <td>FIRST_TERM_ATTEMPT_HRS</td>\n",
       "    </tr>\n",
       "    <tr>\n",
       "      <th>11</th>\n",
       "      <td>0.06</td>\n",
       "      <td>CORE_COURSE_GRADE_2_S</td>\n",
       "    </tr>\n",
       "    <tr>\n",
       "      <th>14</th>\n",
       "      <td>0.06</td>\n",
       "      <td>DISTANCE_FROM_HOME</td>\n",
       "    </tr>\n",
       "    <tr>\n",
       "      <th>10</th>\n",
       "      <td>0.07</td>\n",
       "      <td>CORE_COURSE_GRADE_1_S</td>\n",
       "    </tr>\n",
       "    <tr>\n",
       "      <th>16</th>\n",
       "      <td>0.09</td>\n",
       "      <td>FATHER_HI_EDU_CD</td>\n",
       "    </tr>\n",
       "    <tr>\n",
       "      <th>20</th>\n",
       "      <td>0.09</td>\n",
       "      <td>SECOND_TERM_ATTEMPT_HRS</td>\n",
       "    </tr>\n",
       "    <tr>\n",
       "      <th>12</th>\n",
       "      <td>0.09</td>\n",
       "      <td>CORE_COURSE_GRADE_3_S</td>\n",
       "    </tr>\n",
       "    <tr>\n",
       "      <th>9</th>\n",
       "      <td>0.09</td>\n",
       "      <td>CORE_COURSE_GRADE_4_F</td>\n",
       "    </tr>\n",
       "  </tbody>\n",
       "</table>\n",
       "</div>"
      ],
      "text/plain": [
       "       0                      name\n",
       "13  0.00               HOUSING_STS\n",
       "24  0.00      EST_FAM_CONTRIBUTION\n",
       "2   0.00             IN_STATE_FLAG\n",
       "3   0.00         INTERNATIONAL_STS\n",
       "22  0.00            GROSS_FIN_NEED\n",
       "17  0.00          MOTHER_HI_EDU_CD\n",
       "25  0.01                UNMET_NEED\n",
       "8   0.02     CORE_COURSE_GRADE_3_F\n",
       "0   0.02                 STDNT_AGE\n",
       "5   0.02  STDNT_TEST_ENTRANCE_COMB\n",
       "1   0.02              STDNT_GENDER\n",
       "23  0.03            COST_OF_ATTEND\n",
       "21  0.03    SECOND_TERM_EARNED_HRS\n",
       "19  0.03     FIRST_TERM_EARNED_HRS\n",
       "26  0.03                Background\n",
       "15  0.04             HIGH_SCHL_GPA\n",
       "6   0.04     CORE_COURSE_GRADE_1_F\n",
       "7   0.05     CORE_COURSE_GRADE_2_F\n",
       "4   0.05               STDNT_MAJOR\n",
       "18  0.06    FIRST_TERM_ATTEMPT_HRS\n",
       "11  0.06     CORE_COURSE_GRADE_2_S\n",
       "14  0.06        DISTANCE_FROM_HOME\n",
       "10  0.07     CORE_COURSE_GRADE_1_S\n",
       "16  0.09          FATHER_HI_EDU_CD\n",
       "20  0.09   SECOND_TERM_ATTEMPT_HRS\n",
       "12  0.09     CORE_COURSE_GRADE_3_S\n",
       "9   0.09     CORE_COURSE_GRADE_4_F"
      ]
     },
     "execution_count": 158,
     "metadata": {},
     "output_type": "execute_result"
    }
   ],
   "source": [
    "t.sort_values(by=0)"
   ]
  },
  {
   "cell_type": "markdown",
   "metadata": {},
   "source": [
    "# Performimg Cluster Analysis"
   ]
  },
  {
   "cell_type": "code",
   "execution_count": 163,
   "metadata": {},
   "outputs": [],
   "source": [
    "from sklearn.cluster import KMeans"
   ]
  },
  {
   "cell_type": "code",
   "execution_count": 164,
   "metadata": {},
   "outputs": [],
   "source": [
    "km=KMeans(2)"
   ]
  },
  {
   "cell_type": "code",
   "execution_count": 165,
   "metadata": {},
   "outputs": [
    {
     "data": {
      "text/plain": [
       "KMeans(n_clusters=2)"
      ]
     },
     "execution_count": 165,
     "metadata": {},
     "output_type": "execute_result"
    }
   ],
   "source": [
    "km.fit(X)"
   ]
  },
  {
   "cell_type": "code",
   "execution_count": 174,
   "metadata": {},
   "outputs": [],
   "source": [
    "y=km.predict(X_test)"
   ]
  },
  {
   "cell_type": "code",
   "execution_count": 177,
   "metadata": {},
   "outputs": [
    {
     "data": {
      "text/plain": [
       "80751.81338351962"
      ]
     },
     "execution_count": 177,
     "metadata": {},
     "output_type": "execute_result"
    }
   ],
   "source": [
    "km.inertia_"
   ]
  },
  {
   "cell_type": "code",
   "execution_count": 178,
   "metadata": {},
   "outputs": [
    {
     "data": {
      "text/plain": [
       "array([[ 58,  58],\n",
       "       [136, 218]])"
      ]
     },
     "execution_count": 178,
     "metadata": {},
     "output_type": "execute_result"
    }
   ],
   "source": [
    "confusion_matrix(Y_test,y)"
   ]
  },
  {
   "cell_type": "markdown",
   "metadata": {},
   "source": [
    "# Performing PCA on SEM 1 and SEM 2 grades"
   ]
  },
  {
   "cell_type": "code",
   "execution_count": 214,
   "metadata": {},
   "outputs": [],
   "source": [
    "pca=PCA(n_components=1)\n",
    "p=pca.fit(X_train[[\"CORE_COURSE_GRADE_3_S\",\"CORE_COURSE_GRADE_1_S\",\"CORE_COURSE_GRADE_2_S\"]])\n",
    "p=pca.transform(X_train[[\"CORE_COURSE_GRADE_3_S\",\"CORE_COURSE_GRADE_1_S\",\"CORE_COURSE_GRADE_2_S\"]])"
   ]
  },
  {
   "cell_type": "code",
   "execution_count": 215,
   "metadata": {},
   "outputs": [
    {
     "data": {
      "text/plain": [
       "array([0.79730645])"
      ]
     },
     "execution_count": 215,
     "metadata": {},
     "output_type": "execute_result"
    }
   ],
   "source": [
    "pca.explained_variance_ratio_"
   ]
  },
  {
   "cell_type": "code",
   "execution_count": 216,
   "metadata": {},
   "outputs": [
    {
     "data": {
      "text/plain": [
       "array([[-0.56438521, -0.55377807, -0.61220844]])"
      ]
     },
     "execution_count": 216,
     "metadata": {},
     "output_type": "execute_result"
    }
   ],
   "source": [
    "pca.components_"
   ]
  },
  {
   "cell_type": "code",
   "execution_count": 218,
   "metadata": {},
   "outputs": [],
   "source": [
    "X_train[\"Sem_1_grades\"]=p"
   ]
  },
  {
   "cell_type": "code",
   "execution_count": 219,
   "metadata": {},
   "outputs": [],
   "source": [
    "pca=PCA(n_components=1)\n",
    "p1=pca.fit(X_train[[\"CORE_COURSE_GRADE_1_F\",\"CORE_COURSE_GRADE_2_F\",\"CORE_COURSE_GRADE_3_F\",\"CORE_COURSE_GRADE_4_F\"]])\n",
    "p1=pca.transform(X_train[[\"CORE_COURSE_GRADE_1_F\",\"CORE_COURSE_GRADE_2_F\",\"CORE_COURSE_GRADE_3_F\",\"CORE_COURSE_GRADE_4_F\"]])"
   ]
  },
  {
   "cell_type": "code",
   "execution_count": 220,
   "metadata": {},
   "outputs": [
    {
     "data": {
      "text/plain": [
       "array([0.69813434])"
      ]
     },
     "execution_count": 220,
     "metadata": {},
     "output_type": "execute_result"
    }
   ],
   "source": [
    "pca.explained_variance_ratio_"
   ]
  },
  {
   "cell_type": "code",
   "execution_count": 221,
   "metadata": {},
   "outputs": [
    {
     "data": {
      "text/plain": [
       "array([[-0.47871139, -0.54855469, -0.52869821, -0.43635004]])"
      ]
     },
     "execution_count": 221,
     "metadata": {},
     "output_type": "execute_result"
    }
   ],
   "source": [
    "pca.components_"
   ]
  },
  {
   "cell_type": "code",
   "execution_count": 222,
   "metadata": {},
   "outputs": [],
   "source": [
    "X_train[\"Sem_2_grades\"]=p1"
   ]
  },
  {
   "cell_type": "code",
   "execution_count": 223,
   "metadata": {},
   "outputs": [],
   "source": [
    "pca=PCA(n_components=1)\n",
    "p=pca.fit(X_test[[\"CORE_COURSE_GRADE_3_S\",\"CORE_COURSE_GRADE_1_S\",\"CORE_COURSE_GRADE_2_S\"]])\n",
    "p=pca.transform(X_test[[\"CORE_COURSE_GRADE_3_S\",\"CORE_COURSE_GRADE_1_S\",\"CORE_COURSE_GRADE_2_S\"]])"
   ]
  },
  {
   "cell_type": "code",
   "execution_count": 224,
   "metadata": {},
   "outputs": [
    {
     "name": "stderr",
     "output_type": "stream",
     "text": [
      "/Users/lav/opt/anaconda3/lib/python3.7/site-packages/ipykernel_launcher.py:1: SettingWithCopyWarning: \n",
      "A value is trying to be set on a copy of a slice from a DataFrame.\n",
      "Try using .loc[row_indexer,col_indexer] = value instead\n",
      "\n",
      "See the caveats in the documentation: https://pandas.pydata.org/pandas-docs/stable/user_guide/indexing.html#returning-a-view-versus-a-copy\n",
      "  \"\"\"Entry point for launching an IPython kernel.\n"
     ]
    }
   ],
   "source": [
    "X_test[\"Sem_1_grades\"]=p"
   ]
  },
  {
   "cell_type": "code",
   "execution_count": 225,
   "metadata": {},
   "outputs": [],
   "source": [
    "pca=PCA(n_components=1)\n",
    "p1=pca.fit(X_test[[\"CORE_COURSE_GRADE_1_F\",\"CORE_COURSE_GRADE_2_F\",\"CORE_COURSE_GRADE_3_F\",\"CORE_COURSE_GRADE_4_F\"]])\n",
    "p1=pca.transform(X_test[[\"CORE_COURSE_GRADE_1_F\",\"CORE_COURSE_GRADE_2_F\",\"CORE_COURSE_GRADE_3_F\",\"CORE_COURSE_GRADE_4_F\"]])"
   ]
  },
  {
   "cell_type": "code",
   "execution_count": 226,
   "metadata": {},
   "outputs": [
    {
     "name": "stderr",
     "output_type": "stream",
     "text": [
      "/Users/lav/opt/anaconda3/lib/python3.7/site-packages/ipykernel_launcher.py:1: SettingWithCopyWarning: \n",
      "A value is trying to be set on a copy of a slice from a DataFrame.\n",
      "Try using .loc[row_indexer,col_indexer] = value instead\n",
      "\n",
      "See the caveats in the documentation: https://pandas.pydata.org/pandas-docs/stable/user_guide/indexing.html#returning-a-view-versus-a-copy\n",
      "  \"\"\"Entry point for launching an IPython kernel.\n"
     ]
    }
   ],
   "source": [
    "X_test[\"Sem_2_grades\"]=p1"
   ]
  },
  {
   "cell_type": "code",
   "execution_count": 281,
   "metadata": {
    "scrolled": false
   },
   "outputs": [
    {
     "data": {
      "text/plain": [
       "AdaBoostClassifier(n_estimators=300)"
      ]
     },
     "execution_count": 281,
     "metadata": {},
     "output_type": "execute_result"
    }
   ],
   "source": [
    "ada.fit(X_train,Y_train)"
   ]
  },
  {
   "cell_type": "code",
   "execution_count": 282,
   "metadata": {
    "scrolled": false
   },
   "outputs": [
    {
     "data": {
      "text/plain": [
       "0.8063829787234043"
      ]
     },
     "execution_count": 282,
     "metadata": {},
     "output_type": "execute_result"
    }
   ],
   "source": [
    "ada.score(X_test,Y_test)"
   ]
  },
  {
   "cell_type": "code",
   "execution_count": 283,
   "metadata": {},
   "outputs": [],
   "source": [
    "y_predict=ada.predict(X_test)"
   ]
  },
  {
   "cell_type": "code",
   "execution_count": 284,
   "metadata": {},
   "outputs": [
    {
     "data": {
      "text/plain": [
       "array([[ 49,  67],\n",
       "       [ 24, 330]])"
      ]
     },
     "execution_count": 284,
     "metadata": {},
     "output_type": "execute_result"
    }
   ],
   "source": [
    "confusion_matrix(Y_test,y_predict)"
   ]
  },
  {
   "cell_type": "code",
   "execution_count": 238,
   "metadata": {
    "scrolled": true
   },
   "outputs": [
    {
     "data": {
      "text/plain": [
       "0.8302872062663186"
      ]
     },
     "execution_count": 238,
     "metadata": {},
     "output_type": "execute_result"
    }
   ],
   "source": [
    "precision_score(Y_test,y_predict)"
   ]
  },
  {
   "cell_type": "code",
   "execution_count": 239,
   "metadata": {},
   "outputs": [
    {
     "data": {
      "text/plain": [
       "0.8983050847457628"
      ]
     },
     "execution_count": 239,
     "metadata": {},
     "output_type": "execute_result"
    }
   ],
   "source": [
    "recall_score(Y_test,y_predict)"
   ]
  },
  {
   "cell_type": "code",
   "execution_count": 240,
   "metadata": {
    "scrolled": true
   },
   "outputs": [
    {
     "name": "stdout",
     "output_type": "stream",
     "text": [
      "              precision    recall  f1-score   support\n",
      "\n",
      "           0       0.59      0.44      0.50       116\n",
      "           1       0.83      0.90      0.86       354\n",
      "\n",
      "    accuracy                           0.79       470\n",
      "   macro avg       0.71      0.67      0.68       470\n",
      "weighted avg       0.77      0.79      0.77       470\n",
      "\n"
     ]
    }
   ],
   "source": [
    "print(classification_report(Y_test,y_predict))"
   ]
  },
  {
   "cell_type": "markdown",
   "metadata": {},
   "source": [
    "# It is notable that after performing pca on the sem 1 and sem 2 grades the results don,t change "
   ]
  }
 ],
 "metadata": {
  "kernelspec": {
   "display_name": "Python 3",
   "language": "python",
   "name": "python3"
  },
  "language_info": {
   "codemirror_mode": {
    "name": "ipython",
    "version": 3
   },
   "file_extension": ".py",
   "mimetype": "text/x-python",
   "name": "python",
   "nbconvert_exporter": "python",
   "pygments_lexer": "ipython3",
   "version": "3.7.6"
  }
 },
 "nbformat": 4,
 "nbformat_minor": 4
}
